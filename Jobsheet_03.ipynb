{
  "nbformat": 4,
  "nbformat_minor": 0,
  "metadata": {
    "colab": {
      "provenance": [],
      "authorship_tag": "ABX9TyOMmtxVAVFUYK708v/o0rez",
      "include_colab_link": true
    },
    "kernelspec": {
      "name": "python3",
      "display_name": "Python 3"
    },
    "language_info": {
      "name": "python"
    }
  },
  "cells": [
    {
      "cell_type": "markdown",
      "metadata": {
        "id": "view-in-github",
        "colab_type": "text"
      },
      "source": [
        "<a href=\"https://colab.research.google.com/github/mufadah/2025_Algoritma_Pemrograman/blob/main/Jobsheet_03.ipynb\" target=\"_parent\"><img src=\"https://colab.research.google.com/assets/colab-badge.svg\" alt=\"Open In Colab\"/></a>"
      ]
    },
    {
      "cell_type": "markdown",
      "source": [
        "#Praktikum 01 - If Sederhana"
      ],
      "metadata": {
        "id": "aUHst_ZghWC-"
      }
    },
    {
      "cell_type": "code",
      "execution_count": 8,
      "metadata": {
        "id": "aEotRylyhRUH",
        "outputId": "dbaf3479-978f-454c-9338-8e0bbfaf5777",
        "colab": {
          "base_uri": "https://localhost:8080/"
        }
      },
      "outputs": [
        {
          "output_type": "stream",
          "name": "stdout",
          "text": [
            "Masukkan nilai mahasiswa: 70\n",
            "Lulus\n"
          ]
        }
      ],
      "source": [
        "nilai = int(input(\"Masukkan nilai mahasiswa: \"))\n",
        "\n",
        "if nilai >= 60:\n",
        "  print(\"Lulus\")"
      ]
    },
    {
      "cell_type": "markdown",
      "source": [
        "#Praktikum 02 - If-Else"
      ],
      "metadata": {
        "id": "vSuVkfZp9Tdi"
      }
    },
    {
      "cell_type": "code",
      "source": [
        "nilai = int(input(\"Masukkan nilai mahasiswa: \"))\n",
        "\n",
        "if nilai >= 60:\n",
        "  print(\"Lulus\")\n",
        "else:\n",
        "  print(\"Tidak Lulus\")"
      ],
      "metadata": {
        "id": "WRbeJD2a9bVb",
        "outputId": "7836a40a-e7f9-4efd-b243-4ce18fa105a0",
        "colab": {
          "base_uri": "https://localhost:8080/"
        }
      },
      "execution_count": 9,
      "outputs": [
        {
          "output_type": "stream",
          "name": "stdout",
          "text": [
            "Masukkan nilai mahasiswa: 50\n",
            "Tidak Lulus\n"
          ]
        }
      ]
    },
    {
      "cell_type": "markdown",
      "source": [
        "#Praktikum 03 - If-Elif-Else"
      ],
      "metadata": {
        "id": "v_1FGkQR98TY"
      }
    },
    {
      "cell_type": "code",
      "source": [
        "nilai = int(input(\"Masukkan nilai mahasiswa: \"))\n",
        "\n",
        "if nilai >= 85:\n",
        "  grade = \"A\"\n",
        "elif nilai >= 70:\n",
        "  grade = \"B\"\n",
        "elif nilai >= 55:\n",
        "  grade = \"C\"\n",
        "elif nilai >= 40:\n",
        "  grade = \"D\"\n",
        "else:\n",
        "  grade = \"E\"\n",
        "\n",
        "print(f\"Nilai anda {nilai}, maka grade anda = {grade}\")"
      ],
      "metadata": {
        "id": "DlqbWolF-AAH",
        "outputId": "16ee0449-9e21-4409-d436-0243c3533827",
        "colab": {
          "base_uri": "https://localhost:8080/"
        }
      },
      "execution_count": 10,
      "outputs": [
        {
          "output_type": "stream",
          "name": "stdout",
          "text": [
            "Masukkan nilai mahasiswa: 78\n",
            "Nilai anda 78, maka grade anda = B\n"
          ]
        }
      ]
    },
    {
      "cell_type": "markdown",
      "source": [
        "#Praktikum 04 - Nested If"
      ],
      "metadata": {
        "id": "wYT7kOYQ_06y"
      }
    },
    {
      "cell_type": "code",
      "source": [
        "IPK = float(input(\"Masukkan IPK anda: \"))\n",
        "SKS = int(input(\"Masukkan jumlah SKS anda: \"))\n",
        "\n",
        "if IPK >= 3.0:\n",
        "  if SKS >= 18:\n",
        "    print(\"Anda LAYAK mendapat beasiswa\")\n",
        "  else:\n",
        "    print(\"IPK memenuhi, tapi SKS kurang\")\n",
        "else:\n",
        "  print(\"Anda TIDAK layak mendapat beasiswa\")"
      ],
      "metadata": {
        "id": "fOewUkSzABQT",
        "outputId": "fd57b0a6-5828-4545-faae-19cdb353600b",
        "colab": {
          "base_uri": "https://localhost:8080/"
        }
      },
      "execution_count": 14,
      "outputs": [
        {
          "output_type": "stream",
          "name": "stdout",
          "text": [
            "Masukkan IPK anda: 2.8\n",
            "Masukkan jumlah SKS anda: 20\n",
            "Anda TIDAK layak mendapat beasiswa\n"
          ]
        }
      ]
    },
    {
      "cell_type": "markdown",
      "source": [
        "#Praktikum 05 - Match-Case"
      ],
      "metadata": {
        "id": "qxnez42PA4Sg"
      }
    },
    {
      "cell_type": "code",
      "source": [
        "menu = int(input(\"Pilih menu anda (1-3): \"))\n",
        "\n",
        "match menu:\n",
        "  case 1:\n",
        "    print(\"Anda memilih Nasi Goreng\")\n",
        "  case 2:\n",
        "    print(\"Anda memilih Mie Ayam\")\n",
        "  case 3:\n",
        "    print(\"Anda memilih Soto Ayam\")\n",
        "  case _:\n",
        "    print(\"Menu tidak tersedia\")\n"
      ],
      "metadata": {
        "id": "sSM6Y5K_A-CE",
        "outputId": "3657d893-cc13-453a-ad52-166df2f86f25",
        "colab": {
          "base_uri": "https://localhost:8080/"
        }
      },
      "execution_count": 16,
      "outputs": [
        {
          "output_type": "stream",
          "name": "stdout",
          "text": [
            "Pilih menu anda (1-3): 9\n",
            "Menu tidak tersedia\n"
          ]
        }
      ]
    },
    {
      "cell_type": "markdown",
      "source": [
        "#Praktikum 06 – Studi Kasus: Program Kasir"
      ],
      "metadata": {
        "id": "fERWmUSaBzaJ"
      }
    },
    {
      "cell_type": "code",
      "source": [
        "barang = input(\"Masukkan nama barang anda: \")\n",
        "harga = float(input(\"Masukkan harga barang: \"))\n",
        "jumlah = int(input(\"Masukkan jumlah barang: \"))\n",
        "\n",
        "\n",
        "total = harga * jumlah\n",
        "\n",
        "if total >= 500000 :\n",
        "  diskon = 0.2\n",
        "elif total >= 250000 :\n",
        "  diskon = 0.1\n",
        "else :\n",
        "  diskon = 0\n",
        "\n",
        "bayar = total - (total * diskon)\n",
        "\n",
        "print(\"\\n===== Struk Belanja =====\")\n",
        "print(f\"Barang : {barang}\")\n",
        "print(f\"Jumlah : {jumlah}\")\n",
        "print(f\"Total : Rp {total}\")\n",
        "print(f\"Diskon : {diskon * 100}%\")\n",
        "print(f\"Bayar : Rp {bayar}\")\n",
        "print(\"\\n===== Struk Belanja =====\")"
      ],
      "metadata": {
        "id": "6R7JR1HwB1K2",
        "outputId": "c5963dbd-992c-43c1-bf62-9cd4e6223cec",
        "colab": {
          "base_uri": "https://localhost:8080/"
        }
      },
      "execution_count": 20,
      "outputs": [
        {
          "output_type": "stream",
          "name": "stdout",
          "text": [
            "Masukkan nama barang anda: Pulpen\n",
            "Masukkan harga barang: 5000\n",
            "Masukkan jumlah barang: 10\n",
            "\n",
            "===== Struk Belanja =====\n",
            "Barang : Pulpen\n",
            "Jumlah : 10\n",
            "Total : Rp 50000.0\n",
            "Diskon : 0%\n",
            "Bayar : Rp 50000.0\n",
            "\n",
            "===== Struk Belanja =====\n"
          ]
        }
      ]
    },
    {
      "cell_type": "markdown",
      "source": [
        "#Penugasan 01 - Cek Bilangan Positif/Negatif/Nol"
      ],
      "metadata": {
        "id": "aJVZZN1dF6Zr"
      }
    },
    {
      "cell_type": "code",
      "source": [
        "a = int(input(\"Masukkan angak (postitif, negatif, maupun nol): \"))\n",
        "\n",
        "if a > 0:\n",
        "  print(\"Bilangan anda positif\")\n",
        "elif a <0:\n",
        "  print(\"Bilangan anda negatif\")\n",
        "else:\n",
        "  print(\"Bilangan anda adalah nol\")"
      ],
      "metadata": {
        "id": "cgPqPt_eF_7m",
        "outputId": "131fa4a3-ffe9-4ccb-c7a0-10e7ef2bc068",
        "colab": {
          "base_uri": "https://localhost:8080/"
        }
      },
      "execution_count": 24,
      "outputs": [
        {
          "output_type": "stream",
          "name": "stdout",
          "text": [
            "Masukkan angak (postitif, negatif, maupun nol): -1\n",
            "Bilangan anda negatif\n"
          ]
        }
      ]
    },
    {
      "cell_type": "markdown",
      "source": [
        "#Penugasan 02 - Menentukan Kategori Usia"
      ],
      "metadata": {
        "id": "xOZjHSc7Grda"
      }
    },
    {
      "cell_type": "code",
      "source": [
        "usia = int(input(\"Masukkan umur sekarang: \"))\n",
        "\n",
        "if usia < 5:\n",
        "  print(\"Balita\")\n",
        "elif usia >= 5  <= 11:\n",
        "  print(\"Anak-anak\")\n",
        "elif usia >= 12 <= 17:\n",
        "  print(\"Remaja\")\n",
        "elif usia >= 18 <= 59:\n",
        "  print(\"Dewasa\")\n",
        "else:\n",
        "  print(\"Lansia\")"
      ],
      "metadata": {
        "id": "TO0VzXLgGmmk"
      },
      "execution_count": null,
      "outputs": []
    },
    {
      "cell_type": "code",
      "source": [],
      "metadata": {
        "id": "IGxZeFTzIDx_"
      },
      "execution_count": null,
      "outputs": []
    }
  ]
}