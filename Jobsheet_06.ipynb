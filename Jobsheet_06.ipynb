{
  "nbformat": 4,
  "nbformat_minor": 0,
  "metadata": {
    "colab": {
      "provenance": [],
      "authorship_tag": "ABX9TyPZg9mvK+Kerh8AHMd5TQmB",
      "include_colab_link": true
    },
    "kernelspec": {
      "name": "python3",
      "display_name": "Python 3"
    },
    "language_info": {
      "name": "python"
    }
  },
  "cells": [
    {
      "cell_type": "markdown",
      "metadata": {
        "id": "view-in-github",
        "colab_type": "text"
      },
      "source": [
        "<a href=\"https://colab.research.google.com/github/mufadah/2025_Algoritma_Pemrograman/blob/main/Jobsheet_06.ipynb\" target=\"_parent\"><img src=\"https://colab.research.google.com/assets/colab-badge.svg\" alt=\"Open In Colab\"/></a>"
      ]
    },
    {
      "cell_type": "markdown",
      "source": [
        "#Praktikum 01 -"
      ],
      "metadata": {
        "id": "aUHst_ZghWC-"
      }
    },
    {
      "cell_type": "code",
      "execution_count": null,
      "metadata": {
        "id": "aEotRylyhRUH"
      },
      "outputs": [],
      "source": []
    },
    {
      "cell_type": "markdown",
      "source": [
        "#Praktikum 02 -"
      ],
      "metadata": {
        "id": "cqcIO64XlF7x"
      }
    },
    {
      "cell_type": "code",
      "source": [],
      "metadata": {
        "id": "1UxNPdO5lHTL"
      },
      "execution_count": null,
      "outputs": []
    },
    {
      "cell_type": "markdown",
      "source": [
        "#Praktikum 03 -"
      ],
      "metadata": {
        "id": "R9YWv-VMlHs4"
      }
    },
    {
      "cell_type": "code",
      "source": [],
      "metadata": {
        "id": "N8oMtYx-lIH7"
      },
      "execution_count": null,
      "outputs": []
    },
    {
      "cell_type": "markdown",
      "source": [
        "#Praktikum 04 -"
      ],
      "metadata": {
        "id": "QwkCsxrXlIqN"
      }
    },
    {
      "cell_type": "code",
      "source": [],
      "metadata": {
        "id": "Omyb4boglJEZ"
      },
      "execution_count": null,
      "outputs": []
    },
    {
      "cell_type": "markdown",
      "source": [
        "#Praktikum 05 -"
      ],
      "metadata": {
        "id": "gYK69FzvlNin"
      }
    },
    {
      "cell_type": "code",
      "source": [],
      "metadata": {
        "id": "geC0WiJulOj_"
      },
      "execution_count": null,
      "outputs": []
    },
    {
      "cell_type": "markdown",
      "source": [
        "#Praktikum 06 -"
      ],
      "metadata": {
        "id": "cBONlK-qlQQg"
      }
    },
    {
      "cell_type": "code",
      "source": [],
      "metadata": {
        "id": "aVYpa4_1lRv-"
      },
      "execution_count": null,
      "outputs": []
    },
    {
      "cell_type": "markdown",
      "source": [
        "#Praktikum 07 -"
      ],
      "metadata": {
        "id": "45lxckdwlSJK"
      }
    },
    {
      "cell_type": "code",
      "source": [],
      "metadata": {
        "id": "qIULRB1UlTzj"
      },
      "execution_count": null,
      "outputs": []
    }
  ]
}