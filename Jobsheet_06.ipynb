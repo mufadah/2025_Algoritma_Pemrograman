{
  "nbformat": 4,
  "nbformat_minor": 0,
  "metadata": {
    "colab": {
      "provenance": [],
      "authorship_tag": "ABX9TyPnvkjixLeOFQOfK+XQfsn6",
      "include_colab_link": true
    },
    "kernelspec": {
      "name": "python3",
      "display_name": "Python 3"
    },
    "language_info": {
      "name": "python"
    }
  },
  "cells": [
    {
      "cell_type": "markdown",
      "metadata": {
        "id": "view-in-github",
        "colab_type": "text"
      },
      "source": [
        "<a href=\"https://colab.research.google.com/github/mufadah/2025_Algoritma_Pemrograman/blob/main/Jobsheet_06.ipynb\" target=\"_parent\"><img src=\"https://colab.research.google.com/assets/colab-badge.svg\" alt=\"Open In Colab\"/></a>"
      ]
    },
    {
      "cell_type": "markdown",
      "source": [
        "#Praktikum 01 - Membuat dan Mengakses List 1D"
      ],
      "metadata": {
        "id": "aUHst_ZghWC-"
      }
    },
    {
      "cell_type": "code",
      "execution_count": null,
      "metadata": {
        "id": "aEotRylyhRUH",
        "colab": {
          "base_uri": "https://localhost:8080/"
        },
        "outputId": "a9a9681f-16d6-4e15-933c-fc7692b2d208"
      },
      "outputs": [
        {
          "output_type": "stream",
          "name": "stdout",
          "text": [
            "Andi\n",
            "Budi\n",
            "Cici\n"
          ]
        }
      ],
      "source": [
        "mahasiswa = [\"Andi\", \"Budi\", \"Cici\"]\n",
        "\n",
        "print(mahasiswa[0])\n",
        "print(mahasiswa[1])\n",
        "print(mahasiswa[-1])"
      ]
    },
    {
      "cell_type": "markdown",
      "source": [
        "#Praktikum 02 - Update dan Operasi Dasar List"
      ],
      "metadata": {
        "id": "cqcIO64XlF7x"
      }
    },
    {
      "cell_type": "code",
      "source": [
        "nilai = [85, 90, 78]\n",
        "\n",
        "nilai[0] = 100\n",
        "nilai.append(98)\n",
        "nilai.remove(78)\n",
        "\n",
        "print(nilai)"
      ],
      "metadata": {
        "id": "1UxNPdO5lHTL",
        "colab": {
          "base_uri": "https://localhost:8080/"
        },
        "outputId": "646a0843-67f0-44c4-9f27-517912fa11ae"
      },
      "execution_count": null,
      "outputs": [
        {
          "output_type": "stream",
          "name": "stdout",
          "text": [
            "[100, 90, 98]\n"
          ]
        }
      ]
    },
    {
      "cell_type": "markdown",
      "source": [
        "#Praktikum 03 - Slicing List"
      ],
      "metadata": {
        "id": "R9YWv-VMlHs4"
      }
    },
    {
      "cell_type": "code",
      "source": [
        "nilai = [85, 90, 78, 92, 88]\n",
        "\n",
        "print(nilai[0:3])\n",
        "print(nilai[2:])\n",
        "print(nilai[:3])\n"
      ],
      "metadata": {
        "id": "N8oMtYx-lIH7",
        "colab": {
          "base_uri": "https://localhost:8080/"
        },
        "outputId": "79a81fb0-e64d-4872-ab31-5143661d2ebf"
      },
      "execution_count": null,
      "outputs": [
        {
          "output_type": "stream",
          "name": "stdout",
          "text": [
            "[85, 90, 78]\n",
            "[78, 92, 88]\n",
            "[85, 90, 78]\n"
          ]
        }
      ]
    },
    {
      "cell_type": "markdown",
      "source": [
        "#Praktikum 04 - List 2D (Matriks)"
      ],
      "metadata": {
        "id": "QwkCsxrXlIqN"
      }
    },
    {
      "cell_type": "code",
      "source": [
        "matriks = [\n",
        "    [1, 2, 3],\n",
        "    [4, 5, 6],\n",
        "    [7, 8, 9]\n",
        "]\n",
        "\n",
        "print(matriks [0] [0])\n",
        "print(matriks [1] [2])\n",
        "print(matriks [-1] [1])"
      ],
      "metadata": {
        "id": "Omyb4boglJEZ",
        "colab": {
          "base_uri": "https://localhost:8080/"
        },
        "outputId": "f1a67f49-a833-40f4-e622-4bf6f166c78f"
      },
      "execution_count": null,
      "outputs": [
        {
          "output_type": "stream",
          "name": "stdout",
          "text": [
            "1\n",
            "6\n",
            "8\n"
          ]
        }
      ]
    },
    {
      "cell_type": "markdown",
      "source": [
        "#Praktikum 05 - Operasi pada List 2D"
      ],
      "metadata": {
        "id": "gYK69FzvlNin"
      }
    },
    {
      "cell_type": "code",
      "source": [
        "a = [[1, 2, 3], [4, 5, 6]]\n",
        "b = [[7, 8, 9], [10, 11, 12]]\n",
        "c = []\n",
        "\n",
        "for i in range(len(a)):\n",
        "  baris = []\n",
        "  for j in range (len(a[0])):\n",
        "    baris.append(a[i][j] + b[i][j])\n",
        "  c.append(baris)\n",
        "\n",
        "print(c)"
      ],
      "metadata": {
        "colab": {
          "base_uri": "https://localhost:8080/"
        },
        "id": "14eK8WULlsby",
        "outputId": "b6a2621a-e703-4a66-dd0c-b0d837a7dc3f"
      },
      "execution_count": null,
      "outputs": [
        {
          "output_type": "stream",
          "name": "stdout",
          "text": [
            "[[8, 10, 12], [14, 16, 18]]\n"
          ]
        }
      ]
    },
    {
      "cell_type": "markdown",
      "source": [
        "#Praktikum 06 - Studi Kasus: Pengelolaan Nilai Mahasiswa"
      ],
      "metadata": {
        "id": "cBONlK-qlQQg"
      }
    },
    {
      "cell_type": "code",
      "source": [
        "nilai = [\n",
        "    [80, 90, 85],\n",
        "    [70, 75, 80],\n",
        "    [88, 92, 84]\n",
        "    ]\n",
        "for i, baris in enumerate (nilai, start=1):\n",
        "  rata = sum(baris) / len(baris)\n",
        "  print(f\"Rata-rata nilai mahasiswa {i} adalah {rata:.2f}\")"
      ],
      "metadata": {
        "id": "aVYpa4_1lRv-",
        "colab": {
          "base_uri": "https://localhost:8080/"
        },
        "outputId": "d0696b98-d540-4c32-e251-13421e51498e"
      },
      "execution_count": null,
      "outputs": [
        {
          "output_type": "stream",
          "name": "stdout",
          "text": [
            "Rata-rata nilai mahasiswa 1 adalah 85.00\n",
            "Rata-rata nilai mahasiswa 2 adalah 75.00\n",
            "Rata-rata nilai mahasiswa 3 adalah 88.00\n"
          ]
        }
      ]
    },
    {
      "cell_type": "markdown",
      "source": [
        "#Penugasan 01 - Akses Elemen List"
      ],
      "metadata": {
        "id": "45lxckdwlSJK"
      }
    },
    {
      "cell_type": "code",
      "source": [
        "nama = [\"Faiq\", \"Ahmad\", \"Audah\", \"Bambang\", \"Agus\"]\n",
        "\n",
        "print(nama[0]) #Nama pertama\n",
        "print(nama[-1]) #Nama Terakhir\n",
        "print(nama[1]) #Nama Kedua\n"
      ],
      "metadata": {
        "id": "qIULRB1UlTzj",
        "colab": {
          "base_uri": "https://localhost:8080/"
        },
        "outputId": "e3c8f151-4a4a-42f8-bfb8-34a0edbd5c29"
      },
      "execution_count": null,
      "outputs": [
        {
          "output_type": "stream",
          "name": "stdout",
          "text": [
            "Faiq\n",
            "Agus\n",
            "Ahmad\n"
          ]
        }
      ]
    },
    {
      "cell_type": "markdown",
      "source": [
        "#Penugasan 02 - Operasi Dasar List"
      ],
      "metadata": {
        "id": "uekyqxwBpsT7"
      }
    },
    {
      "cell_type": "code",
      "source": [
        "nilai = [70, 75, 80]\n",
        "\n",
        "nilai[1] = 85\n",
        "nilai.append(90)\n",
        "nilai.remove(70)\n",
        "print(nilai)"
      ],
      "metadata": {
        "colab": {
          "base_uri": "https://localhost:8080/"
        },
        "id": "XgnkdBkyprUS",
        "outputId": "753758f7-9fe8-4900-dd5d-163d7a64adbc"
      },
      "execution_count": 2,
      "outputs": [
        {
          "output_type": "stream",
          "name": "stdout",
          "text": [
            "[85, 80, 90]\n"
          ]
        }
      ]
    },
    {
      "cell_type": "markdown",
      "source": [
        "#Penugasan 03 - Slicing List"
      ],
      "metadata": {
        "id": "asZoeoYhw_u1"
      }
    },
    {
      "cell_type": "code",
      "source": [
        "list = [1, 2, 3, 4, 5, 6, 7, 8, 9, 10]\n",
        "\n",
        "print(list[:3])\n",
        "print(list[-4:])\n",
        "\n",
        "genap = [i for i in list if i % 2 == 0]\n",
        "print(genap)"
      ],
      "metadata": {
        "colab": {
          "base_uri": "https://localhost:8080/"
        },
        "id": "tuD5JUiSqhWr",
        "outputId": "a4346272-e53d-4b82-e3e2-cb04adac9081"
      },
      "execution_count": null,
      "outputs": [
        {
          "output_type": "stream",
          "name": "stdout",
          "text": [
            "[1, 2, 3]\n",
            "[7, 8, 9, 10]\n",
            "[2, 4, 6, 8, 10]\n"
          ]
        }
      ]
    },
    {
      "cell_type": "markdown",
      "source": [
        "#Penugasan 04 - List 2D – Matriks"
      ],
      "metadata": {
        "id": "R4kTNYAY3p9x"
      }
    },
    {
      "cell_type": "code",
      "source": [
        "angka = [\n",
        "    [1, 2, 3],\n",
        "    [4, 5, 6]\n",
        "]\n",
        "\n",
        "print(angka[0] [1])\n",
        "print(angka[1] [2])\n",
        "print(angka[0] [:3])"
      ],
      "metadata": {
        "colab": {
          "base_uri": "https://localhost:8080/"
        },
        "id": "10sU2Zlzyxo8",
        "outputId": "96cd0a9e-c8e1-4488-b7d0-d6872f7e5932"
      },
      "execution_count": 1,
      "outputs": [
        {
          "output_type": "stream",
          "name": "stdout",
          "text": [
            "2\n",
            "6\n",
            "[1, 2, 3]\n"
          ]
        }
      ]
    },
    {
      "cell_type": "markdown",
      "source": [
        "#Penugasan 05 - Operasi Matriks 2D"
      ],
      "metadata": {
        "id": "LyYGS_na9Ww_"
      }
    },
    {
      "cell_type": "code",
      "source": [
        "matriks_a = [[2, 3, 4], [5, 6, 7]]\n",
        "matriks_b = [[8, 9, 10], [11, 12, 13]]\n",
        "matriks_c = []\n",
        "\n",
        "for i in range(len(matriks_a)):\n",
        "  baris = []\n",
        "  for j in range (len(matriks_a[0])):\n",
        "    baris.append(matriks_a[i][j] + matriks_b[i][j])\n",
        "  matriks_c.append(baris)\n",
        "\n",
        "print(matriks_c)"
      ],
      "metadata": {
        "colab": {
          "base_uri": "https://localhost:8080/"
        },
        "id": "l9AcO_ZW8pyS",
        "outputId": "f20dac0b-99a9-450e-c85c-2c58e514c9e1"
      },
      "execution_count": null,
      "outputs": [
        {
          "output_type": "stream",
          "name": "stdout",
          "text": [
            "[[10, 12, 14], [16, 18, 20]]\n"
          ]
        }
      ]
    },
    {
      "cell_type": "markdown",
      "source": [
        "#Penugasan 06 - Rata-rata Nilai Mahasiswa"
      ],
      "metadata": {
        "id": "LrH3embXADD3"
      }
    },
    {
      "cell_type": "code",
      "source": [
        "nilai = [\n",
        "    [75, 80, 85],\n",
        "    [60, 70, 65],\n",
        "    [90, 95, 92]\n",
        "]\n",
        "\n",
        "for i, baris in enumerate (nilai, start=1):\n",
        "  rata = sum(baris) / len(baris)\n",
        "  print(f\"Rata-rata nilai mahasiswa {i} adalah {rata:.2f}\")"
      ],
      "metadata": {
        "colab": {
          "base_uri": "https://localhost:8080/"
        },
        "id": "1rQesN6__tfE",
        "outputId": "0f08387f-14cf-4284-f74e-4a2932ce3bfb"
      },
      "execution_count": null,
      "outputs": [
        {
          "output_type": "stream",
          "name": "stdout",
          "text": [
            "Rata-rata nilai mahasiswa 1 adalah 80.00\n",
            "Rata-rata nilai mahasiswa 2 adalah 65.00\n",
            "Rata-rata nilai mahasiswa 3 adalah 92.33\n"
          ]
        }
      ]
    },
    {
      "cell_type": "markdown",
      "source": [
        "#Penugasan 07 - Studi Kasus – Data Toko"
      ],
      "metadata": {
        "id": "vZK44jEAA0PF"
      }
    },
    {
      "cell_type": "code",
      "source": [
        "stok = [[\"Buku\", 20], [\"Pulpen\", 35], [\"Penghapus\", 15]]\n",
        "\n",
        "for baris in stok:\n",
        "  nama_barang = baris[0]\n",
        "  jumlah_stok = baris[1]\n",
        "  print(f\"Nama barang: {nama_barang}, Jumlah stok: {jumlah_stok}\")"
      ],
      "metadata": {
        "colab": {
          "base_uri": "https://localhost:8080/"
        },
        "id": "wKoA-ZbJA4F1",
        "outputId": "bac98a87-510a-475d-f86f-4f37f0c76535"
      },
      "execution_count": null,
      "outputs": [
        {
          "output_type": "stream",
          "name": "stdout",
          "text": [
            "Nama barang: Buku, Jumlah stok: 20\n",
            "Nama barang: Pulpen, Jumlah stok: 35\n",
            "Nama barang: Penghapus, Jumlah stok: 15\n"
          ]
        }
      ]
    },
    {
      "cell_type": "code",
      "source": [],
      "metadata": {
        "id": "96QpzpKcBDPN"
      },
      "execution_count": null,
      "outputs": []
    }
  ]
}