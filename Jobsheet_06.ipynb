{
  "nbformat": 4,
  "nbformat_minor": 0,
  "metadata": {
    "colab": {
      "provenance": [],
      "authorship_tag": "ABX9TyPvnELfrJAO4eOp+v7CQTKL",
      "include_colab_link": true
    },
    "kernelspec": {
      "name": "python3",
      "display_name": "Python 3"
    },
    "language_info": {
      "name": "python"
    }
  },
  "cells": [
    {
      "cell_type": "markdown",
      "metadata": {
        "id": "view-in-github",
        "colab_type": "text"
      },
      "source": [
        "<a href=\"https://colab.research.google.com/github/mufadah/2025_Algoritma_Pemrograman/blob/main/Jobsheet_06.ipynb\" target=\"_parent\"><img src=\"https://colab.research.google.com/assets/colab-badge.svg\" alt=\"Open In Colab\"/></a>"
      ]
    },
    {
      "cell_type": "markdown",
      "source": [
        "#Praktikum 01 - Membuat dan Mengakses List 1D"
      ],
      "metadata": {
        "id": "aUHst_ZghWC-"
      }
    },
    {
      "cell_type": "code",
      "execution_count": 2,
      "metadata": {
        "id": "aEotRylyhRUH",
        "colab": {
          "base_uri": "https://localhost:8080/"
        },
        "outputId": "a9a9681f-16d6-4e15-933c-fc7692b2d208"
      },
      "outputs": [
        {
          "output_type": "stream",
          "name": "stdout",
          "text": [
            "Andi\n",
            "Budi\n",
            "Cici\n"
          ]
        }
      ],
      "source": [
        "mahasiswa = [\"Andi\", \"Budi\", \"Cici\"]\n",
        "\n",
        "print(mahasiswa[0])\n",
        "print(mahasiswa[1])\n",
        "print(mahasiswa[-1])"
      ]
    },
    {
      "cell_type": "markdown",
      "source": [
        "#Praktikum 02 - Update dan Operasi Dasar List"
      ],
      "metadata": {
        "id": "cqcIO64XlF7x"
      }
    },
    {
      "cell_type": "code",
      "source": [
        "nilai = [85, 90, 78]\n",
        "\n",
        "nilai[0] = 100\n",
        "nilai.append(98)\n",
        "nilai.remove(78)\n",
        "\n",
        "print(nilai)"
      ],
      "metadata": {
        "id": "1UxNPdO5lHTL",
        "colab": {
          "base_uri": "https://localhost:8080/"
        },
        "outputId": "646a0843-67f0-44c4-9f27-517912fa11ae"
      },
      "execution_count": 5,
      "outputs": [
        {
          "output_type": "stream",
          "name": "stdout",
          "text": [
            "[100, 90, 98]\n"
          ]
        }
      ]
    },
    {
      "cell_type": "markdown",
      "source": [
        "#Praktikum 03 - Slicing List"
      ],
      "metadata": {
        "id": "R9YWv-VMlHs4"
      }
    },
    {
      "cell_type": "code",
      "source": [
        "nilai = [85, 90, 78, 92, 88]\n",
        "\n",
        "print(nilai[0:3])\n",
        "print(nilai[2:])\n",
        "print(nilai[:3])\n"
      ],
      "metadata": {
        "id": "N8oMtYx-lIH7",
        "colab": {
          "base_uri": "https://localhost:8080/"
        },
        "outputId": "79a81fb0-e64d-4872-ab31-5143661d2ebf"
      },
      "execution_count": 9,
      "outputs": [
        {
          "output_type": "stream",
          "name": "stdout",
          "text": [
            "[85, 90, 78]\n",
            "[78, 92, 88]\n",
            "[85, 90, 78]\n"
          ]
        }
      ]
    },
    {
      "cell_type": "markdown",
      "source": [
        "#Praktikum 04 - List 2D (Matriks)"
      ],
      "metadata": {
        "id": "QwkCsxrXlIqN"
      }
    },
    {
      "cell_type": "code",
      "source": [
        "matriks = [\n",
        "    [1, 2, 3],\n",
        "    [4, 5, 6],\n",
        "    [7, 8, 9]\n",
        "]\n",
        "\n",
        "print(matriks [0] [0])\n",
        "print(matriks [1] [2])\n",
        "print(matriks [-1] [1])"
      ],
      "metadata": {
        "id": "Omyb4boglJEZ",
        "colab": {
          "base_uri": "https://localhost:8080/"
        },
        "outputId": "f1a67f49-a833-40f4-e622-4bf6f166c78f"
      },
      "execution_count": 13,
      "outputs": [
        {
          "output_type": "stream",
          "name": "stdout",
          "text": [
            "1\n",
            "6\n",
            "8\n"
          ]
        }
      ]
    },
    {
      "cell_type": "markdown",
      "source": [
        "#Praktikum 05 - Operasi pada List 2D"
      ],
      "metadata": {
        "id": "gYK69FzvlNin"
      }
    },
    {
      "cell_type": "code",
      "source": [
        "a = [[1, 2, 3], [4, 5, 6]]\n",
        "b = [[7, 8, 9], [10, 11, 12]]\n",
        "c = []\n",
        "\n",
        "for i in range(len(a)):\n",
        "  baris = []\n",
        "  for j in range (len(a[0])):\n",
        "    baris.append(a[i][j] + b[i][j])\n",
        "  c.append(baris)\n",
        "\n",
        "print(c)"
      ],
      "metadata": {
        "colab": {
          "base_uri": "https://localhost:8080/"
        },
        "id": "14eK8WULlsby",
        "outputId": "b6a2621a-e703-4a66-dd0c-b0d837a7dc3f"
      },
      "execution_count": 23,
      "outputs": [
        {
          "output_type": "stream",
          "name": "stdout",
          "text": [
            "[[8, 10, 12], [14, 16, 18]]\n"
          ]
        }
      ]
    },
    {
      "cell_type": "markdown",
      "source": [
        "#Praktikum 06 - Studi Kasus: Pengelolaan Nilai Mahasiswa"
      ],
      "metadata": {
        "id": "cBONlK-qlQQg"
      }
    },
    {
      "cell_type": "code",
      "source": [
        "nilai = [\n",
        "    [80, 90, 85],\n",
        "    [70, 75, 80],\n",
        "    [88, 92, 84]\n",
        "    ]\n",
        "for i, baris in enumerate (nilai, start=1):\n",
        "  rata = sum(baris) / len(baris)\n",
        "  print(f\"Rata-rata nilai mahasiswa {i} adalah {rata:.2f}\")"
      ],
      "metadata": {
        "id": "aVYpa4_1lRv-",
        "colab": {
          "base_uri": "https://localhost:8080/"
        },
        "outputId": "d0696b98-d540-4c32-e251-13421e51498e"
      },
      "execution_count": 30,
      "outputs": [
        {
          "output_type": "stream",
          "name": "stdout",
          "text": [
            "Rata-rata nilai mahasiswa 1 adalah 85.00\n",
            "Rata-rata nilai mahasiswa 2 adalah 75.00\n",
            "Rata-rata nilai mahasiswa 3 adalah 88.00\n"
          ]
        }
      ]
    },
    {
      "cell_type": "markdown",
      "source": [
        "#Penugasan 01 - Akses Elemen List"
      ],
      "metadata": {
        "id": "45lxckdwlSJK"
      }
    },
    {
      "cell_type": "code",
      "source": [
        "nama = [\"Faiq\", \"Ahmad\", \"Audah\", \"Bambang\", \"Agus\"]\n",
        "\n",
        "print(nama[0]) #Nama pertama\n",
        "print(nama[-1]) #Nama Terakhir\n",
        "print(nama[1]) #Nama Kedua\n"
      ],
      "metadata": {
        "id": "qIULRB1UlTzj",
        "colab": {
          "base_uri": "https://localhost:8080/"
        },
        "outputId": "e3c8f151-4a4a-42f8-bfb8-34a0edbd5c29"
      },
      "execution_count": 32,
      "outputs": [
        {
          "output_type": "stream",
          "name": "stdout",
          "text": [
            "Faiq\n",
            "Agus\n",
            "Ahmad\n"
          ]
        }
      ]
    },
    {
      "cell_type": "markdown",
      "source": [
        "#Penugasan 02 - Operasi Dasar List"
      ],
      "metadata": {
        "id": "uekyqxwBpsT7"
      }
    },
    {
      "cell_type": "code",
      "source": [
        "nilai = [70, 75, 80]\n",
        "\n",
        "nilai[2] = 85\n",
        "nilai.append(90)\n",
        "nilai.remove(70)\n",
        "print(nilai)"
      ],
      "metadata": {
        "colab": {
          "base_uri": "https://localhost:8080/"
        },
        "id": "XgnkdBkyprUS",
        "outputId": "b1250172-0efd-4a67-ad58-32768fb01c97"
      },
      "execution_count": 34,
      "outputs": [
        {
          "output_type": "stream",
          "name": "stdout",
          "text": [
            "[75, 85, 90]\n"
          ]
        }
      ]
    },
    {
      "cell_type": "markdown",
      "source": [
        "#Penugasan 03 - Slicing List"
      ],
      "metadata": {
        "id": "asZoeoYhw_u1"
      }
    },
    {
      "cell_type": "code",
      "source": [
        "list = [1, 2, 3, 4, 5, 6, 7, 8, 9, 10]\n",
        "\n",
        "angka = list.\n",
        "\n",
        "print(list[:3])\n",
        "print(list[-4:])\n",
        "if list % 2 == 0:\n",
        "  print(list)\n",
        "else:\n",
        "  print()"
      ],
      "metadata": {
        "colab": {
          "base_uri": "https://localhost:8080/",
          "height": 245
        },
        "id": "tuD5JUiSqhWr",
        "outputId": "bde33fe0-3175-4187-d96f-1da21b2a8d7b"
      },
      "execution_count": 43,
      "outputs": [
        {
          "output_type": "stream",
          "name": "stdout",
          "text": [
            "[1, 2, 3]\n",
            "[7, 8, 9, 10]\n"
          ]
        },
        {
          "output_type": "error",
          "ename": "TypeError",
          "evalue": "unsupported operand type(s) for %: 'list' and 'int'",
          "traceback": [
            "\u001b[0;31m---------------------------------------------------------------------------\u001b[0m",
            "\u001b[0;31mTypeError\u001b[0m                                 Traceback (most recent call last)",
            "\u001b[0;32m/tmp/ipython-input-3503468842.py\u001b[0m in \u001b[0;36m<cell line: 0>\u001b[0;34m()\u001b[0m\n\u001b[1;32m      5\u001b[0m \u001b[0mprint\u001b[0m\u001b[0;34m(\u001b[0m\u001b[0mlist\u001b[0m\u001b[0;34m[\u001b[0m\u001b[0;34m:\u001b[0m\u001b[0;36m3\u001b[0m\u001b[0;34m]\u001b[0m\u001b[0;34m)\u001b[0m\u001b[0;34m\u001b[0m\u001b[0;34m\u001b[0m\u001b[0m\n\u001b[1;32m      6\u001b[0m \u001b[0mprint\u001b[0m\u001b[0;34m(\u001b[0m\u001b[0mlist\u001b[0m\u001b[0;34m[\u001b[0m\u001b[0;34m-\u001b[0m\u001b[0;36m4\u001b[0m\u001b[0;34m:\u001b[0m\u001b[0;34m]\u001b[0m\u001b[0;34m)\u001b[0m\u001b[0;34m\u001b[0m\u001b[0;34m\u001b[0m\u001b[0m\n\u001b[0;32m----> 7\u001b[0;31m \u001b[0;32mif\u001b[0m \u001b[0mlist\u001b[0m \u001b[0;34m%\u001b[0m \u001b[0;36m2\u001b[0m \u001b[0;34m==\u001b[0m \u001b[0;36m0\u001b[0m\u001b[0;34m:\u001b[0m\u001b[0;34m\u001b[0m\u001b[0;34m\u001b[0m\u001b[0m\n\u001b[0m\u001b[1;32m      8\u001b[0m   \u001b[0mprint\u001b[0m\u001b[0;34m(\u001b[0m\u001b[0mlist\u001b[0m\u001b[0;34m)\u001b[0m\u001b[0;34m\u001b[0m\u001b[0;34m\u001b[0m\u001b[0m\n\u001b[1;32m      9\u001b[0m \u001b[0;32melse\u001b[0m\u001b[0;34m:\u001b[0m\u001b[0;34m\u001b[0m\u001b[0;34m\u001b[0m\u001b[0m\n",
            "\u001b[0;31mTypeError\u001b[0m: unsupported operand type(s) for %: 'list' and 'int'"
          ]
        }
      ]
    },
    {
      "cell_type": "code",
      "source": [],
      "metadata": {
        "id": "9YPhW0XHxRMj"
      },
      "execution_count": null,
      "outputs": []
    }
  ]
}