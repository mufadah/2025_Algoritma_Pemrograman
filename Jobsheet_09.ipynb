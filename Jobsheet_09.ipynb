{
  "nbformat": 4,
  "nbformat_minor": 0,
  "metadata": {
    "colab": {
      "provenance": [],
      "authorship_tag": "ABX9TyPOGccE26fhIaE03MzrrqUX",
      "include_colab_link": true
    },
    "kernelspec": {
      "name": "python3",
      "display_name": "Python 3"
    },
    "language_info": {
      "name": "python"
    }
  },
  "cells": [
    {
      "cell_type": "markdown",
      "metadata": {
        "id": "view-in-github",
        "colab_type": "text"
      },
      "source": [
        "<a href=\"https://colab.research.google.com/github/mufadah/2025_Algoritma_Pemrograman/blob/main/Jobsheet_09.ipynb\" target=\"_parent\"><img src=\"https://colab.research.google.com/assets/colab-badge.svg\" alt=\"Open In Colab\"/></a>"
      ]
    },
    {
      "cell_type": "markdown",
      "source": [
        "#Praktikum 01 - Modul math"
      ],
      "metadata": {
        "id": "aUHst_ZghWC-"
      }
    },
    {
      "cell_type": "code",
      "execution_count": null,
      "metadata": {
        "id": "aEotRylyhRUH"
      },
      "outputs": [],
      "source": []
    },
    {
      "cell_type": "markdown",
      "source": [
        "#Praktikum 02 - from … import …"
      ],
      "metadata": {
        "id": "cqcIO64XlF7x"
      }
    },
    {
      "cell_type": "code",
      "source": [],
      "metadata": {
        "id": "1UxNPdO5lHTL"
      },
      "execution_count": null,
      "outputs": []
    },
    {
      "cell_type": "markdown",
      "source": [
        "#Praktikum 03 - Alias modul"
      ],
      "metadata": {
        "id": "R9YWv-VMlHs4"
      }
    },
    {
      "cell_type": "code",
      "source": [],
      "metadata": {
        "id": "N8oMtYx-lIH7"
      },
      "execution_count": null,
      "outputs": []
    },
    {
      "cell_type": "markdown",
      "source": [
        "#Praktikum 04 - Eksplorasi Modul Standar"
      ],
      "metadata": {
        "id": "QwkCsxrXlIqN"
      }
    },
    {
      "cell_type": "code",
      "source": [],
      "metadata": {
        "id": "Omyb4boglJEZ"
      },
      "execution_count": null,
      "outputs": []
    },
    {
      "cell_type": "markdown",
      "source": [
        "#Praktikum 05 - Modul Buatan Sendiri"
      ],
      "metadata": {
        "id": "gYK69FzvlNin"
      }
    },
    {
      "cell_type": "code",
      "source": [],
      "metadata": {
        "id": "14eK8WULlsby"
      },
      "execution_count": null,
      "outputs": []
    },
    {
      "cell_type": "markdown",
      "source": [
        "#Praktikum 06 - Instalasi dengan pip"
      ],
      "metadata": {
        "id": "cBONlK-qlQQg"
      }
    },
    {
      "cell_type": "code",
      "source": [],
      "metadata": {
        "id": "aVYpa4_1lRv-"
      },
      "execution_count": null,
      "outputs": []
    },
    {
      "cell_type": "markdown",
      "source": [
        "#Penugasan 01 - Eksperimen dengan Modul math"
      ],
      "metadata": {
        "id": "45lxckdwlSJK"
      }
    },
    {
      "cell_type": "code",
      "source": [],
      "metadata": {
        "id": "qIULRB1UlTzj"
      },
      "execution_count": null,
      "outputs": []
    },
    {
      "cell_type": "markdown",
      "source": [
        "#Penugasan 02 - Eksperimen dengan Modul random"
      ],
      "metadata": {
        "id": "uekyqxwBpsT7"
      }
    },
    {
      "cell_type": "code",
      "source": [],
      "metadata": {
        "id": "XgnkdBkyprUS"
      },
      "execution_count": null,
      "outputs": []
    },
    {
      "cell_type": "markdown",
      "source": [
        "#Penugasan 03 - Modul sys"
      ],
      "metadata": {
        "id": "asZoeoYhw_u1"
      }
    },
    {
      "cell_type": "code",
      "source": [],
      "metadata": {
        "id": "tuD5JUiSqhWr"
      },
      "execution_count": null,
      "outputs": []
    },
    {
      "cell_type": "markdown",
      "source": [
        "#Penugasan 04 - Modul buatan sendiri"
      ],
      "metadata": {
        "id": "9ElW4VJMQVOK"
      }
    },
    {
      "cell_type": "code",
      "source": [],
      "metadata": {
        "id": "9YPhW0XHxRMj"
      },
      "execution_count": null,
      "outputs": []
    },
    {
      "cell_type": "markdown",
      "source": [
        "#Penugasan 05 - Instalasi Library Pihak Ketiga"
      ],
      "metadata": {
        "id": "9A7Ne1TvQfr9"
      }
    },
    {
      "cell_type": "code",
      "source": [],
      "metadata": {
        "id": "YifGgPumQaUd"
      },
      "execution_count": null,
      "outputs": []
    },
    {
      "cell_type": "markdown",
      "source": [
        "#Penugasan 06 - Studi kasus mini"
      ],
      "metadata": {
        "id": "9eOnQQ2JQpr3"
      }
    },
    {
      "cell_type": "code",
      "source": [],
      "metadata": {
        "id": "4aWERyp0QmC0"
      },
      "execution_count": null,
      "outputs": []
    }
  ]
}