{
  "nbformat": 4,
  "nbformat_minor": 0,
  "metadata": {
    "colab": {
      "provenance": [],
      "authorship_tag": "ABX9TyMQCmJMySjVGqagG5WG8ZmL",
      "include_colab_link": true
    },
    "kernelspec": {
      "name": "python3",
      "display_name": "Python 3"
    },
    "language_info": {
      "name": "python"
    }
  },
  "cells": [
    {
      "cell_type": "markdown",
      "metadata": {
        "id": "view-in-github",
        "colab_type": "text"
      },
      "source": [
        "<a href=\"https://colab.research.google.com/github/mufadah/2025_Algoritma_Pemrograman/blob/main/Jobsheet_05.ipynb\" target=\"_parent\"><img src=\"https://colab.research.google.com/assets/colab-badge.svg\" alt=\"Open In Colab\"/></a>"
      ]
    },
    {
      "cell_type": "markdown",
      "source": [
        "#Praktikum 01 - Indexing dan Slicing"
      ],
      "metadata": {
        "id": "aUHst_ZghWC-"
      }
    },
    {
      "cell_type": "code",
      "execution_count": null,
      "metadata": {
        "id": "aEotRylyhRUH",
        "colab": {
          "base_uri": "https://localhost:8080/"
        },
        "outputId": "8d22ebf5-88a6-4e22-cdff-dc744f8af5d5"
      },
      "outputs": [
        {
          "output_type": "stream",
          "name": "stdout",
          "text": [
            "Politeknik\n",
            "Semarang\n",
            "Politeknik\n",
            "Politeknik Negeri\n",
            "ik Negeri Semarang\n",
            "oliteknik Neger\n"
          ]
        }
      ],
      "source": [
        "teks = \"Politeknik Negeri Semarang\"\n",
        "\n",
        "print(teks[0:10]) #Politeknik\n",
        "print(teks[-8:]) #Semarang\n",
        "print(teks[:10])\n",
        "print(teks[:-9])\n",
        "print(teks[8:])\n",
        "print(teks[1:-10])"
      ]
    },
    {
      "cell_type": "markdown",
      "source": [
        "#Praktikum 02 - Method Bawaan String"
      ],
      "metadata": {
        "id": "cqcIO64XlF7x"
      }
    },
    {
      "cell_type": "code",
      "source": [
        "teks = \"Politeknik Negeri Semarang\"\n",
        "\n",
        "print(teks.upper())\n",
        "print(teks.lower())\n",
        "print(teks.title())\n",
        "print(teks.strip())\n",
        "print(teks.split(\" \"))\n",
        "print(\"-\".join([\"Politeknik\", \"Negeri\", \"Semarang\"]))"
      ],
      "metadata": {
        "id": "1UxNPdO5lHTL",
        "colab": {
          "base_uri": "https://localhost:8080/"
        },
        "outputId": "d33c181e-7e36-4be5-99c8-b129aeae9fc0"
      },
      "execution_count": null,
      "outputs": [
        {
          "output_type": "stream",
          "name": "stdout",
          "text": [
            "POLITEKNIK NEGERI SEMARANG\n",
            "politeknik negeri semarang\n",
            "Politeknik Negeri Semarang\n",
            "Politeknik Negeri Semarang\n",
            "['Politeknik', 'Negeri', 'Semarang']\n",
            "Politeknik-Negeri-Semarang\n"
          ]
        }
      ]
    },
    {
      "cell_type": "markdown",
      "source": [
        "#Praktikum 03.1 - Validasi Password (Python123)"
      ],
      "metadata": {
        "id": "R9YWv-VMlHs4"
      }
    },
    {
      "cell_type": "code",
      "source": [
        "password = input(\"Masukkan password baru: \")\n",
        "\n",
        "if len(password) >= 8:\n",
        "  print(\"Password valid\")\n",
        "else:\n",
        "  print(\"Password terlalu pendek\")\n",
        "\n",
        "# if password == \"python123\":\n",
        "#   print(\"Password benar\")\n",
        "# else:\n",
        "#   print(\"Password salah\")"
      ],
      "metadata": {
        "id": "N8oMtYx-lIH7",
        "colab": {
          "base_uri": "https://localhost:8080/"
        },
        "outputId": "dd4209ff-011c-4667-f8ce-94382fa78c83"
      },
      "execution_count": null,
      "outputs": [
        {
          "output_type": "stream",
          "name": "stdout",
          "text": [
            "Masukkan password baru: python123\n",
            "Password valid\n"
          ]
        }
      ]
    },
    {
      "cell_type": "markdown",
      "source": [
        "#Praktikum 03.2 - Validasi Password (abc)"
      ],
      "metadata": {
        "id": "vmjIC3XKAJ6h"
      }
    },
    {
      "cell_type": "code",
      "source": [
        "password = input(\"Masukkan password baru: \")\n",
        "\n",
        "if len(password) >= 8:\n",
        "  print(\"Password valid\")\n",
        "else:\n",
        "  print(\"Password terlalu pendek\")"
      ],
      "metadata": {
        "colab": {
          "base_uri": "https://localhost:8080/"
        },
        "id": "LwetAhPqAOZ5",
        "outputId": "c4a1f148-3bf2-4d80-b6b2-01a96a27d76a"
      },
      "execution_count": null,
      "outputs": [
        {
          "output_type": "stream",
          "name": "stdout",
          "text": [
            "Masukkan password baru: abc\n",
            "Password terlalu pendek\n"
          ]
        }
      ]
    },
    {
      "cell_type": "markdown",
      "source": [
        "#Praktikum 04 - String Formatting dengan F-String"
      ],
      "metadata": {
        "id": "QwkCsxrXlIqN"
      }
    },
    {
      "cell_type": "code",
      "source": [
        "nama = input(\"Masukkan nama anda: \")\n",
        "usia = int(input(\"Masukkan usia anda: \"))\n",
        "\n",
        "print(f\"Selamat datang {nama}, anda berusia {usia} tahun\")"
      ],
      "metadata": {
        "id": "Omyb4boglJEZ",
        "colab": {
          "base_uri": "https://localhost:8080/"
        },
        "outputId": "56348c4c-b813-496f-fbf8-2f4c68ab1a0b"
      },
      "execution_count": null,
      "outputs": [
        {
          "output_type": "stream",
          "name": "stdout",
          "text": [
            "Masukkan nama anda: faiq\n",
            "Masukkan usia anda: 12\n",
            "Selamat datang faiq, anda berusia 12 tahun\n"
          ]
        }
      ]
    },
    {
      "cell_type": "markdown",
      "source": [
        "#Praktikum 05 - Operasi dalam F-String"
      ],
      "metadata": {
        "id": "gYK69FzvlNin"
      }
    },
    {
      "cell_type": "code",
      "source": [
        "a = int(input(\"Masukkan angka pertama: \"))\n",
        "b = int(input(\"Masukkan angka kedua: \"))\n",
        "\n",
        "print(f\"\\n  Hasil penjumlahan dari {a} + {b} adalah {a + b}\")\n",
        "print(f\"\\nHasil pembagian dari {a} / {b} adalah {a / b}\")\n",
        "print(f\"\\nHasil perkalian dari {a} * {b} adalah {a * b}\")\n",
        "print(f\"\\nHasil sisa pembagian dari {a} % {b} adalah {a % b}\")\n",
        "print(f\"\\nHasil pengurangan dari {a} - {b} adalah {a - b}\")"
      ],
      "metadata": {
        "id": "geC0WiJulOj_",
        "colab": {
          "base_uri": "https://localhost:8080/"
        },
        "outputId": "f9a72e85-b531-4ca4-c82f-28997a91ad30"
      },
      "execution_count": null,
      "outputs": [
        {
          "output_type": "stream",
          "name": "stdout",
          "text": [
            "Masukkan angka pertama: 12\n",
            "Masukkan angka kedua: 2\n",
            "\n",
            "Hasil penjumlahan dari 12 + 2 adalah 14\n",
            "\n",
            "Hasil pembagian dari 12 / 2 adalah 6.0\n",
            "\n",
            "Hasil perkalian dari 12 * 2 adalah 24\n",
            "\n",
            "Hasil sisa pembagian dari 12 % 2 adalah 0\n",
            "\n",
            "Hasil pengurangan dari 12 - 2 adalah 10\n"
          ]
        }
      ]
    },
    {
      "cell_type": "markdown",
      "source": [
        "#Praktikum 06 - Casting String"
      ],
      "metadata": {
        "id": "cBONlK-qlQQg"
      }
    },
    {
      "cell_type": "code",
      "source": [
        "angka = 123\n",
        "string = \"456\"\n",
        "\n",
        "print(\"Nilai: \" + str(angka))\n",
        "print(int(string) + 10)"
      ],
      "metadata": {
        "id": "aVYpa4_1lRv-",
        "colab": {
          "base_uri": "https://localhost:8080/"
        },
        "outputId": "d0756c11-9dc1-459b-c954-ec3c8d8cea1e"
      },
      "execution_count": null,
      "outputs": [
        {
          "output_type": "stream",
          "name": "stdout",
          "text": [
            "Nilai: 123\n",
            "466\n"
          ]
        }
      ]
    },
    {
      "cell_type": "markdown",
      "source": [
        "#Praktikum 07 - Studi Kasus Nyata: Analisis Kalima\n",
        "\n"
      ],
      "metadata": {
        "id": "45lxckdwlSJK"
      }
    },
    {
      "cell_type": "code",
      "source": [
        "kalimat = \"Saya kuliah di Politeknik Negeri Semarang\"\n",
        "\n",
        "daftar_kata = kalimat.split(\" \")\n",
        "\n",
        "print(f\"Jumlah kata: {len(daftar_kata)}\")\n",
        "for i, kata in enumerate(daftar_kata, start = 1):\n",
        "  print(i, kata)"
      ],
      "metadata": {
        "id": "qIULRB1UlTzj",
        "colab": {
          "base_uri": "https://localhost:8080/"
        },
        "outputId": "f2fc5468-ab89-4705-9a3c-606dd3e16675"
      },
      "execution_count": null,
      "outputs": [
        {
          "output_type": "stream",
          "name": "stdout",
          "text": [
            "Jumlah kata: 6\n",
            "1 Saya\n",
            "2 kuliah\n",
            "3 di\n",
            "4 Politeknik\n",
            "5 Negeri\n",
            "6 Semarang\n"
          ]
        }
      ]
    },
    {
      "cell_type": "markdown",
      "source": [
        "#Penugasan 01 - Indexing dan Slicing"
      ],
      "metadata": {
        "id": "DqnS0hufE-lL"
      }
    },
    {
      "cell_type": "code",
      "source": [
        "teks = \"Politeknik Negeri Semarang\"\n",
        "\n",
        "print(teks[:1])\n",
        "print(teks[-1:])\n",
        "print(teks[11:17])"
      ],
      "metadata": {
        "colab": {
          "base_uri": "https://localhost:8080/"
        },
        "id": "4XQSRvE7FEHR",
        "outputId": "60ad7645-57bf-4b67-e4c5-70539c13729b"
      },
      "execution_count": null,
      "outputs": [
        {
          "output_type": "stream",
          "name": "stdout",
          "text": [
            "P\n",
            "g\n",
            "Negeri\n"
          ]
        }
      ]
    },
    {
      "cell_type": "markdown",
      "source": [
        "#Penugasan 02 - Manipulasi String"
      ],
      "metadata": {
        "id": "3NYNrWSuGN93"
      }
    },
    {
      "cell_type": "code",
      "source": [
        "teks = input(\"Masukkan kata atau kalimat: \")\n",
        "\n",
        "print(teks.upper())\n",
        "print(teks.lower())\n",
        "print(len(teks))"
      ],
      "metadata": {
        "colab": {
          "base_uri": "https://localhost:8080/"
        },
        "id": "25aQzVZeFM-2",
        "outputId": "cd765bc3-ddb7-47c8-f129-22fd5575cef6"
      },
      "execution_count": null,
      "outputs": [
        {
          "output_type": "stream",
          "name": "stdout",
          "text": [
            "Masukkan kata atau kalimat: tas\n",
            "TAS\n",
            "tas\n",
            "3\n"
          ]
        }
      ]
    },
    {
      "cell_type": "markdown",
      "source": [
        "#Penugasan 03 - Validasi Username"
      ],
      "metadata": {
        "id": "SE9KGgqXGKEg"
      }
    },
    {
      "cell_type": "code",
      "source": [
        "username = input(\"Masukkan username: \")\n",
        "\n",
        "if \" \" in username:\n",
        "  print(\"\\nError. Aoaowkoawk\")\n",
        "else:\n",
        "  print(\"Username valid\")"
      ],
      "metadata": {
        "colab": {
          "base_uri": "https://localhost:8080/"
        },
        "id": "2ULk7rZIGA6I",
        "outputId": "cebc5088-bb26-45ef-8dc6-b44ac40c0c1f"
      },
      "execution_count": null,
      "outputs": [
        {
          "output_type": "stream",
          "name": "stdout",
          "text": [
            "Masukkan username: da adad\n",
            "\n",
            "Error. Aoaowkoawk\n"
          ]
        }
      ]
    },
    {
      "cell_type": "markdown",
      "source": [
        "#Penugasan 04 - String Formatting dengan F-String"
      ],
      "metadata": {
        "id": "7tWKP-xBTwtU"
      }
    },
    {
      "cell_type": "code",
      "source": [
        "nama = input(\"Masukkan nama: \")\n",
        "umur = int(input(\"Masukkan umur: \"))\n",
        "jurusan = input(\"Masukkan jurusan kamu: \")\n",
        "\n",
        "print(f\"\\nNama: {nama}\")\n",
        "print(f\"Umur: {umur}\")\n",
        "print(f\"Jurusan: {jurusan}\")"
      ],
      "metadata": {
        "id": "CCfTwn_HI-o_",
        "outputId": "550e34ed-5766-49bd-eef0-b12b8d88c5ff",
        "colab": {
          "base_uri": "https://localhost:8080/"
        }
      },
      "execution_count": 70,
      "outputs": [
        {
          "output_type": "stream",
          "name": "stdout",
          "text": [
            "Masukkan nama: Andi\n",
            "Masukkan umur: 20\n",
            "Masukkan jurusan kamu: Teknologi Rekayasa Komputer\n",
            "\n",
            "Nama: Andi\n",
            "Umur: 20\n",
            "Jurusan: Teknologi Rekayasa Komputer\n"
          ]
        }
      ]
    },
    {
      "cell_type": "markdown",
      "source": [
        "#Penugasan 05 - Operasi dalam F-String"
      ],
      "metadata": {
        "id": "8KFGqMjaUyVm"
      }
    },
    {
      "cell_type": "code",
      "source": [
        "a = float(input(\"Masukkan angka pertama: \"))\n",
        "b = float(input(\"Masukkan angka kedua: \"))\n",
        "\n",
        "print(f\"\\nHasil {a} + {b} adalah: {a + b}\")\n",
        "print(f\"Hasil {a} * {b} adalah: {a * b}\")\n",
        "print(f\"Hasil {a} dasda {b} adalah: {a  b}\")"
      ],
      "metadata": {
        "id": "CotUx3wnUUF6",
        "outputId": "1aec5c7d-ed81-444c-ee48-e12534dfd07b",
        "colab": {
          "base_uri": "https://localhost:8080/"
        }
      },
      "execution_count": 71,
      "outputs": [
        {
          "output_type": "stream",
          "name": "stdout",
          "text": [
            "Masukkan angka pertama: 1\n",
            "Masukkan angka kedua: 2\n",
            "Hasil 1 + 2 adalah: 3\n",
            "Hasil 1 * 2 adalah: 2\n"
          ]
        }
      ]
    },
    {
      "cell_type": "markdown",
      "source": [
        "#Penugasan 06 - Casting Data"
      ],
      "metadata": {
        "id": "ssWHWhvYZGIj"
      }
    },
    {
      "cell_type": "code",
      "source": [
        "angka = input(\"Masukkan angka: \")\n",
        "\n",
        "print(f\"Pangkat 2 dari {angka} adalah {int(angka) * int(angka)}\")\n",
        "print(f\"Bentuk desimal dari {angka} adalah {float(angka)}\")"
      ],
      "metadata": {
        "id": "YDfrhAQqWJny",
        "outputId": "32324ef9-23e4-4769-a0ae-f232f4e710eb",
        "colab": {
          "base_uri": "https://localhost:8080/"
        }
      },
      "execution_count": 78,
      "outputs": [
        {
          "output_type": "stream",
          "name": "stdout",
          "text": [
            "Masukkan angka: 4\n",
            "Pangkat 2 dari 4 adalah 16\n",
            "Bentuk desimal dari 4 adalah 4.0\n"
          ]
        }
      ]
    },
    {
      "cell_type": "markdown",
      "source": [
        "#Penugasan 07 - Studi Kasus  Analisis Teks"
      ],
      "metadata": {
        "id": "x9y-4pSOaCZ_"
      }
    },
    {
      "cell_type": "code",
      "source": [
        "kalimat = input(\"Masukkan sebuah kalimat: \")\n",
        "\n",
        "daftar_kata = kalimat.split()\n",
        "\n",
        "print(len(daftar_kata)) #Hitung jumlah kata\n",
        "print()\n",
        "print(daftar_kata)"
      ],
      "metadata": {
        "id": "p-v9ndVeZo1s",
        "outputId": "ab9385e2-326c-4972-c03b-398e48ada562",
        "colab": {
          "base_uri": "https://localhost:8080/"
        }
      },
      "execution_count": 87,
      "outputs": [
        {
          "output_type": "stream",
          "name": "stdout",
          "text": [
            "Masukkan sebuah kalimat: adadada adada asdad\n",
            "3\n",
            "\n",
            "['adadada', 'adada', 'asdad']\n"
          ]
        }
      ]
    }
  ]
}