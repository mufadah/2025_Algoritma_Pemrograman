{
  "nbformat": 4,
  "nbformat_minor": 0,
  "metadata": {
    "colab": {
      "provenance": [],
      "authorship_tag": "ABX9TyPZhBZunQ36xWlWuPCS4Mzj",
      "include_colab_link": true
    },
    "kernelspec": {
      "name": "python3",
      "display_name": "Python 3"
    },
    "language_info": {
      "name": "python"
    }
  },
  "cells": [
    {
      "cell_type": "markdown",
      "metadata": {
        "id": "view-in-github",
        "colab_type": "text"
      },
      "source": [
        "<a href=\"https://colab.research.google.com/github/mufadah/2025_Algoritma_Pemrograman/blob/main/Jobsheet_04.ipynb\" target=\"_parent\"><img src=\"https://colab.research.google.com/assets/colab-badge.svg\" alt=\"Open In Colab\"/></a>"
      ]
    },
    {
      "cell_type": "markdown",
      "source": [
        "#Praktikum 01 - Perulangan For dengan Range"
      ],
      "metadata": {
        "id": "aUHst_ZghWC-"
      }
    },
    {
      "cell_type": "code",
      "source": [
        "for x in range(1, 6):\n",
        "  print(x)"
      ],
      "metadata": {
        "id": "RRfTx6S7kRQ9",
        "outputId": "bc6e9238-5694-48e5-c944-f3d4bb2e4b4b",
        "colab": {
          "base_uri": "https://localhost:8080/"
        }
      },
      "execution_count": null,
      "outputs": [
        {
          "output_type": "stream",
          "name": "stdout",
          "text": [
            "1\n",
            "2\n",
            "3\n",
            "4\n",
            "5\n"
          ]
        }
      ]
    },
    {
      "cell_type": "markdown",
      "source": [
        "#Praktikum 02 - While (Hitung Mundur)"
      ],
      "metadata": {
        "id": "SLRhgoWwgGLF"
      }
    },
    {
      "cell_type": "code",
      "source": [
        "n = 5\n",
        "while n > 0:\n",
        "  print(n)\n",
        "  n -= 1"
      ],
      "metadata": {
        "colab": {
          "base_uri": "https://localhost:8080/"
        },
        "id": "dlG7KaK5gIBK",
        "outputId": "b59ad69c-0183-45ba-8157-7d75b7a60eca"
      },
      "execution_count": null,
      "outputs": [
        {
          "output_type": "stream",
          "name": "stdout",
          "text": [
            "5\n",
            "4\n",
            "3\n",
            "2\n",
            "1\n"
          ]
        }
      ]
    },
    {
      "cell_type": "markdown",
      "source": [
        "#Praktikum 03 - Nested Loop (Segitiga Bintang)\n"
      ],
      "metadata": {
        "id": "2x9gdSJ0gJwk"
      }
    },
    {
      "cell_type": "code",
      "source": [
        "for i in range(1, 6):\n",
        "  for j in range(i):\n",
        "      print(\"*\", end=\"\")\n",
        "  print()"
      ],
      "metadata": {
        "id": "Tl39u1x9gMWH",
        "colab": {
          "base_uri": "https://localhost:8080/"
        },
        "outputId": "54bd6f9d-3583-4873-e32b-14574dae6f9e"
      },
      "execution_count": null,
      "outputs": [
        {
          "output_type": "stream",
          "name": "stdout",
          "text": [
            "*\n",
            "**\n",
            "***\n",
            "****\n",
            "*****\n"
          ]
        }
      ]
    },
    {
      "cell_type": "markdown",
      "source": [
        "#Praktikum 04.1 - Break"
      ],
      "metadata": {
        "id": "7jJyAzm4gNIM"
      }
    },
    {
      "cell_type": "code",
      "source": [
        "for i in range(1, 15):\n",
        "  print(i)\n",
        "  if i == 10:\n",
        "    print(\"Angka 10 ditemukan\")\n",
        "    break"
      ],
      "metadata": {
        "id": "1NAxJtebgRAK",
        "colab": {
          "base_uri": "https://localhost:8080/"
        },
        "outputId": "92effc7a-7467-40a2-c0c9-c1dbc17abf4f"
      },
      "execution_count": null,
      "outputs": [
        {
          "output_type": "stream",
          "name": "stdout",
          "text": [
            "1\n",
            "2\n",
            "3\n",
            "4\n",
            "5\n",
            "6\n",
            "7\n",
            "8\n",
            "9\n",
            "10\n",
            "Angka 10 ditemukan\n"
          ]
        }
      ]
    },
    {
      "cell_type": "markdown",
      "source": [
        "#Praktikum 04.2 - Continue"
      ],
      "metadata": {
        "id": "TlJMKLfu8zq9"
      }
    },
    {
      "cell_type": "code",
      "source": [
        "for i in range(1, 6):\n",
        "  if i % 2 == 1:\n",
        "    continue\n",
        "  print(i)"
      ],
      "metadata": {
        "id": "H7DmcuLC8Akv",
        "outputId": "4959044d-2a92-48f9-fb2c-2ac8b1a3c66e",
        "colab": {
          "base_uri": "https://localhost:8080/"
        }
      },
      "execution_count": null,
      "outputs": [
        {
          "output_type": "stream",
          "name": "stdout",
          "text": [
            "2\n",
            "4\n"
          ]
        }
      ]
    },
    {
      "cell_type": "markdown",
      "source": [
        "#Praktikum 05 - For pada Dictionary"
      ],
      "metadata": {
        "id": "oIxVHdWNgSPh"
      }
    },
    {
      "cell_type": "code",
      "source": [
        "data = {\"Nama\": \"Andi\", \"Umur\": 20, \"Prodi\": \"TRK\"}\n",
        "\n",
        "for k, v in data.items():\n",
        "  print(k, \":\", v)"
      ],
      "metadata": {
        "id": "99r7LZt5gS3f",
        "colab": {
          "base_uri": "https://localhost:8080/"
        },
        "outputId": "13202885-2afd-4187-9244-cdf0265217e6"
      },
      "execution_count": null,
      "outputs": [
        {
          "output_type": "stream",
          "name": "stdout",
          "text": [
            "Nama : Andi\n",
            "Umur : 20\n",
            "Prodi : TRK\n"
          ]
        }
      ]
    },
    {
      "cell_type": "markdown",
      "source": [
        "#Praktikum 06 - For dengan Enumerate\n"
      ],
      "metadata": {
        "id": "W6H7gwe5gUnE"
      }
    },
    {
      "cell_type": "code",
      "source": [
        "daftar = [\"Andi\", \"Budi\", \"Cici\"]\n",
        "\n",
        "for i, nama in enumerate(daftar, start=1):\n",
        "  print(i, nama)"
      ],
      "metadata": {
        "id": "k1rxutWJgVdp",
        "colab": {
          "base_uri": "https://localhost:8080/"
        },
        "outputId": "3e20be69-5a58-4a04-8390-e6fc09f9b001"
      },
      "execution_count": null,
      "outputs": [
        {
          "output_type": "stream",
          "name": "stdout",
          "text": [
            "1 Andi\n",
            "2 Budi\n",
            "3 Cici\n"
          ]
        }
      ]
    },
    {
      "cell_type": "markdown",
      "source": [
        "#Praktikum 07 - Kasir Multi-Item"
      ],
      "metadata": {
        "id": "TcUXL1GhozgM"
      }
    },
    {
      "cell_type": "code",
      "source": [
        "total = 0\n",
        "\n",
        "while True:\n",
        "  barang = input(\"Masukkan nama barang (ketik 'selesai' untuk berhenti): \")\n",
        "  if barang.lower() == \"selesai\":\n",
        "    break\n",
        "  harga = float(input(f\"Masukkan harga {barang}: \"))\n",
        "  jumlah = int(input(f\"Masukkan jumlah {barang}: \"))\n",
        "  subtotal = harga * jumlah\n",
        "  total += subtotal\n",
        "\n",
        "print(\"\\n===== Struk Belanja =====\")\n",
        "print(f\"Total Belanja : Rp {total}\")"
      ],
      "metadata": {
        "id": "RxVHV_W2o0lZ",
        "colab": {
          "base_uri": "https://localhost:8080/"
        },
        "outputId": "1c704632-bbce-4d1f-9491-300637424a81"
      },
      "execution_count": 3,
      "outputs": [
        {
          "output_type": "stream",
          "name": "stdout",
          "text": [
            "Masukkan nama barang (ketik 'selesai' untuk berhenti): Buku\n",
            "Masukkan harga Buku: 50000\n",
            "Masukkan jumlah Buku: 2\n",
            "Masukkan nama barang (ketik 'selesai' untuk berhenti): Pulpen\n",
            "Masukkan harga Pulpen: 5000\n",
            "Masukkan jumlah Pulpen: 3\n",
            "Masukkan nama barang (ketik 'selesai' untuk berhenti): selesai\n",
            "\n",
            "===== Struk Belanja =====\n",
            "Total Belanja : Rp 115000.0\n"
          ]
        }
      ]
    },
    {
      "cell_type": "markdown",
      "source": [
        "#Penugasan 01 - Menampilkan Deret Angka"
      ],
      "metadata": {
        "id": "mu-cjfsq8hKN"
      }
    },
    {
      "cell_type": "code",
      "source": [
        "for x in range(3, 33, 3):\n",
        "  print(x)"
      ],
      "metadata": {
        "colab": {
          "base_uri": "https://localhost:8080/"
        },
        "id": "DVwV-9BY7UPo",
        "outputId": "23719229-e6ba-497b-f794-412d7373ccfe"
      },
      "execution_count": 8,
      "outputs": [
        {
          "output_type": "stream",
          "name": "stdout",
          "text": [
            "3\n",
            "6\n",
            "9\n",
            "12\n",
            "15\n",
            "18\n",
            "21\n",
            "24\n",
            "27\n",
            "30\n"
          ]
        }
      ]
    },
    {
      "cell_type": "markdown",
      "source": [
        "#Penugasan 02 - Hitung faktorial"
      ],
      "metadata": {
        "id": "gzi0ysSE9LQG"
      }
    },
    {
      "cell_type": "code",
      "source": [
        "a = int(input(\"Masukkan angka yang ingin dibuat faktorial: \"))\n",
        "faktorial = 1\n",
        "i = 1\n",
        "\n",
        "while i <= a:\n",
        "  faktorial *= i\n",
        "  i += 1\n",
        "print(f\"Faktorial dari {a} adalah {faktorial}\")"
      ],
      "metadata": {
        "colab": {
          "base_uri": "https://localhost:8080/"
        },
        "id": "R-eAUByj9CdE",
        "outputId": "573ed482-5a54-4458-a488-a824edd8595d"
      },
      "execution_count": 31,
      "outputs": [
        {
          "output_type": "stream",
          "name": "stdout",
          "text": [
            "Masukkan angka yang ingin dibuat faktorial: 5\n",
            "Faktorial dari 5 adalah 120\n"
          ]
        }
      ]
    },
    {
      "cell_type": "markdown",
      "source": [
        "#Penugasan 03 - Pola segitiga terbalik"
      ],
      "metadata": {
        "id": "xjapIw2LEn90"
      }
    },
    {
      "cell_type": "code",
      "source": [
        "for i in range(5, 0, -1):\n",
        "  for j in range(i):\n",
        "      print(\"*\", end=\"\")\n",
        "  print()"
      ],
      "metadata": {
        "colab": {
          "base_uri": "https://localhost:8080/"
        },
        "id": "FSa2iVZp_-9a",
        "outputId": "4b5cf899-df7f-47b4-f635-b156acc7c0ec"
      },
      "execution_count": 40,
      "outputs": [
        {
          "output_type": "stream",
          "name": "stdout",
          "text": [
            "*****\n",
            "****\n",
            "***\n",
            "**\n",
            "*\n"
          ]
        }
      ]
    },
    {
      "cell_type": "markdown",
      "source": [
        "#Penugasan 04 - Cari Bilangan Prima dengan Break"
      ],
      "metadata": {
        "id": "ot86IFHIQWO9"
      }
    },
    {
      "cell_type": "code",
      "source": [
        "angka = int(input(\"Masukkan angka untuk mengecek bilangan prima: \"))\n",
        "\n",
        "if angka > 1:\n",
        "  for i in range(2, angka):\n",
        "    if angka % i == 0:\n",
        "      print(\"Bukan bilangan prima\")\n",
        "      break\n",
        "  else:\n",
        "    print(angka, \"Merupakan bilangan prima\")\n",
        "\n",
        "else:\n",
        "  print(\"Bukan bilangan prima\")"
      ],
      "metadata": {
        "id": "ko_s8RSQPmxS",
        "outputId": "db94c9e2-6b4b-41ea-f34d-136db5a37820",
        "colab": {
          "base_uri": "https://localhost:8080/"
        }
      },
      "execution_count": 47,
      "outputs": [
        {
          "output_type": "stream",
          "name": "stdout",
          "text": [
            "Masukkan angka untuk mengecek bilangan prima: 0\n",
            "Bukan bilangan prima\n"
          ]
        }
      ]
    },
    {
      "cell_type": "markdown",
      "source": [
        "#Penugasan 05 - Tampilkan Hanya Bilangan Genap dengan Continue"
      ],
      "metadata": {
        "id": "oD3T5oP9Y25S"
      }
    },
    {
      "cell_type": "code",
      "source": [
        "for i in range(1, 22):\n",
        "  if i % 2 == 1:\n",
        "    continue\n",
        "  print(i)"
      ],
      "metadata": {
        "id": "h4wsXVxMSYof",
        "outputId": "85aec960-5eb0-42d1-c4f7-84743dfda8af",
        "colab": {
          "base_uri": "https://localhost:8080/"
        }
      },
      "execution_count": 49,
      "outputs": [
        {
          "output_type": "stream",
          "name": "stdout",
          "text": [
            "2\n",
            "4\n",
            "6\n",
            "8\n",
            "10\n",
            "12\n",
            "14\n",
            "16\n",
            "18\n",
            "20\n"
          ]
        }
      ]
    },
    {
      "cell_type": "markdown",
      "source": [
        "#Penugasan 06 - Iterasi Dictionary Mahasiswa"
      ],
      "metadata": {
        "id": "OrSHJ4VfZbXD"
      }
    },
    {
      "cell_type": "code",
      "source": [
        "data = {\"Nama\": \"Budi\", \"Umur\": 21, \"Prodi\": \"Teknik Komputer\"}\n",
        "\n",
        "for k, v in data.items():\n",
        "  print(k, \":\", v)"
      ],
      "metadata": {
        "id": "lHyPGlCHZkPc",
        "outputId": "e7f9a51d-f891-4803-ba15-25683165bbad",
        "colab": {
          "base_uri": "https://localhost:8080/"
        }
      },
      "execution_count": 50,
      "outputs": [
        {
          "output_type": "stream",
          "name": "stdout",
          "text": [
            "Nama : Budi\n",
            "Umur : 21\n",
            "Prodi : Teknik Komputer\n"
          ]
        }
      ]
    },
    {
      "cell_type": "markdown",
      "source": [
        "#Penugasan 07 - Enumerate Daftar Barang"
      ],
      "metadata": {
        "id": "_uGbmKtSZzl6"
      }
    },
    {
      "cell_type": "code",
      "source": [
        "daftar = [\"Buku\", \"Pulpen\", \"Tas\"]\n",
        "\n",
        "for i, nama in enumerate(daftar, start=1):\n",
        "  print(i, nama)"
      ],
      "metadata": {
        "id": "B74mlCStZ383",
        "outputId": "d769e6bc-7ff3-4dac-9e9f-1b74bc805f44",
        "colab": {
          "base_uri": "https://localhost:8080/"
        }
      },
      "execution_count": 51,
      "outputs": [
        {
          "output_type": "stream",
          "name": "stdout",
          "text": [
            "1 Buku\n",
            "2 Pulpen\n",
            "3 Tas\n"
          ]
        }
      ]
    },
    {
      "cell_type": "markdown",
      "source": [
        "#Penugasan 08 - Studi Kasus  Kasir Diskon"
      ],
      "metadata": {
        "id": "mhEe1bjDaGkE"
      }
    },
    {
      "cell_type": "code",
      "source": [
        "total = 0\n",
        "\n",
        "while True:\n",
        "  barang = input(\"Masukkan nama barang (Ketik '-' untuk berhenti): \")\n",
        "  if barang.lower() == \"-\":\n",
        "    break\n",
        "  harga = float(input(f\"Masukkan harga {barang}: \"))\n",
        "  jumlah = int(input(f\"Masukkan jumlah {barang}: \"))\n",
        "  subtotal = harga * jumlah\n",
        "  total += subtotal\n",
        "  if total >= 200000:\n",
        "    diskon = 0.1\n",
        "  else:\n",
        "    diskon = 0\n",
        "  a_diskon = total - (total * diskon)\n",
        "\n",
        "\n",
        "print(\"\\n===== STRUK =====\")\n",
        "print(f\"\\nSebelum diskon: {total}\")\n",
        "print(f\"Diskon: {diskon* 100} %\")\n",
        "print(f\"Bayar: {a_diskon}\")\n",
        "print(\"\\n=================\")"
      ],
      "metadata": {
        "id": "U5yHBEQwaNwk",
        "outputId": "b903d268-4d48-4e7d-c99e-2d5f39f79d68",
        "colab": {
          "base_uri": "https://localhost:8080/"
        }
      },
      "execution_count": 73,
      "outputs": [
        {
          "output_type": "stream",
          "name": "stdout",
          "text": [
            "Masukkan nama barang (Ketik '-' untuk berhenti): tas\n",
            "Masukkan harga tas: 100000\n",
            "Masukkan jumlah tas: 1\n",
            "Masukkan nama barang (Ketik '-' untuk berhenti): -\n",
            "\n",
            "===== STRUK =====\n",
            "\n",
            "sebelum diskon: 100000.0\n",
            "Diskon: 0 %\n",
            "Bayar: 100000.0\n",
            "\n",
            "=================\n"
          ]
        }
      ]
    }
  ]
}