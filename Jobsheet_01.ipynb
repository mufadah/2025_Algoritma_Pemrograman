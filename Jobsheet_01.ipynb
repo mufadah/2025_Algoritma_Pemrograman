{
  "nbformat": 4,
  "nbformat_minor": 0,
  "metadata": {
    "colab": {
      "provenance": [],
      "authorship_tag": "ABX9TyO3LRLogsc1ovwsuSyuuQE9",
      "include_colab_link": true
    },
    "kernelspec": {
      "name": "python3",
      "display_name": "Python 3"
    },
    "language_info": {
      "name": "python"
    }
  },
  "cells": [
    {
      "cell_type": "markdown",
      "metadata": {
        "id": "view-in-github",
        "colab_type": "text"
      },
      "source": [
        "<a href=\"https://colab.research.google.com/github/mufadah/2025_Algoritma_Pemrograman/blob/main/Jobsheet_01.ipynb\" target=\"_parent\"><img src=\"https://colab.research.google.com/assets/colab-badge.svg\" alt=\"Open In Colab\"/></a>"
      ]
    },
    {
      "cell_type": "markdown",
      "source": [
        "#Praktikum 01 - Menghitung luas persegi panjang"
      ],
      "metadata": {
        "id": "UPH5LJRj2bqv"
      }
    },
    {
      "cell_type": "code",
      "source": [
        "p = int(input(\"Masukkan panjang: \"))\n",
        "l = int(input(\"Masukkan lebar: \"))\n",
        "\n",
        "luas = p*l\n",
        "\n",
        "print(\"Luas persegi panjang tersebut adalah = \", luas)"
      ],
      "metadata": {
        "colab": {
          "base_uri": "https://localhost:8080/"
        },
        "id": "eddbypIs2oTg",
        "outputId": "35ea4af7-805e-465f-e410-6d47a9eb477c"
      },
      "execution_count": null,
      "outputs": [
        {
          "output_type": "stream",
          "name": "stdout",
          "text": [
            "Masukkan panjang: 5\n",
            "Masukkan lebar: 5\n",
            "Luas persegi panjang tersebut adalah =  25\n"
          ]
        }
      ]
    },
    {
      "cell_type": "markdown",
      "source": [
        "#Praktikum 02 - Menghitung luas segitiga"
      ],
      "metadata": {
        "id": "EY5svBKxAicI"
      }
    },
    {
      "cell_type": "code",
      "source": [
        "import math\n",
        "\n",
        "a = int(input(\"Masukkan sisi a: \"))\n",
        "b = int(input(\"Masukkan sisi b: \"))\n",
        "c = int(input(\"Masukkan sisi c: \"))\n",
        "\n",
        "s = int( a + b + c) / 2\n",
        "luas = math.sqrt(s*(s-a)*(s-b)*(s-c))\n",
        "print(\"Luas dari segitiga tersebut adalah = \", luas)"
      ],
      "metadata": {
        "id": "0nXHxwbxAyjY",
        "outputId": "b732faa8-4e18-4e63-e4d9-4b930d6a1691",
        "colab": {
          "base_uri": "https://localhost:8080/"
        }
      },
      "execution_count": 16,
      "outputs": [
        {
          "output_type": "stream",
          "name": "stdout",
          "text": [
            "Masukkan sisi a: 10\n",
            "Masukkan sisi b: 10\n",
            "Masukkan sisi c: 10\n",
            "Luas dari segitiga tersebut adalah =  43.30127018922193\n"
          ]
        }
      ]
    },
    {
      "cell_type": "code",
      "source": [
        "import math\n",
        "\n",
        "print(\"Menghitung luas segitiga (Rumus Heron)\")\n",
        "a = float(input(\"Masukkan sisi a: \"))\n",
        "b = float(input(\"Masukkan sisi b: \"))\n",
        "c = float(input(\"Masukkan sisi c: \"))\n",
        "\n",
        "s = (a + b + c) / 2\n",
        "luas = math.sqrt(s * (s - a) * (s - b) * (s - c))\n",
        "\n",
        "print(\"Luas dari segitiga tersebut adalah = \", luas)"
      ],
      "metadata": {
        "id": "6RHzXRFTC_49"
      },
      "execution_count": null,
      "outputs": []
    },
    {
      "cell_type": "code",
      "source": [],
      "metadata": {
        "id": "kcl9oLsBFi41"
      },
      "execution_count": null,
      "outputs": []
    }
  ]
}