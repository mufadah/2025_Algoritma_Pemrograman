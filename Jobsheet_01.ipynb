{
  "nbformat": 4,
  "nbformat_minor": 0,
  "metadata": {
    "colab": {
      "provenance": [],
      "include_colab_link": true
    },
    "kernelspec": {
      "name": "python3",
      "display_name": "Python 3"
    },
    "language_info": {
      "name": "python"
    }
  },
  "cells": [
    {
      "cell_type": "markdown",
      "metadata": {
        "id": "view-in-github",
        "colab_type": "text"
      },
      "source": [
        "<a href=\"https://colab.research.google.com/github/mufadah/2025_Algoritma_Pemrograman/blob/main/Jobsheet_01.ipynb\" target=\"_parent\"><img src=\"https://colab.research.google.com/assets/colab-badge.svg\" alt=\"Open In Colab\"/></a>"
      ]
    },
    {
      "cell_type": "markdown",
      "source": [
        "#Praktikum 01 - Menghitung luas persegi panjang"
      ],
      "metadata": {
        "id": "UPH5LJRj2bqv"
      }
    },
    {
      "cell_type": "code",
      "source": [
        "p = int(input(\"Masukkan panjang: \"))\n",
        "l = int(input(\"Masukkan lebar: \"))\n",
        "\n",
        "luas = p*l\n",
        "\n",
        "print(\"Luas persegi panjang tersebut adalah = \", luas)"
      ],
      "metadata": {
        "id": "eddbypIs2oTg"
      },
      "execution_count": null,
      "outputs": []
    },
    {
      "cell_type": "markdown",
      "source": [
        "#Praktikum 02 - Menghitung luas segitiga"
      ],
      "metadata": {
        "id": "EY5svBKxAicI"
      }
    },
    {
      "cell_type": "code",
      "source": [
        "import math\n",
        "\n",
        "a = int(input(\"Masukkan sisi a: \"))\n",
        "b = int(input(\"Masukkan sisi b: \"))\n",
        "c = int(input(\"Masukkan sisi c: \"))\n",
        "\n",
        "s = int( a + b + c) / 2\n",
        "luas = math.sqrt(s*(s-a)*(s-b)*(s-c))\n",
        "print(\"Luas dari segitiga tersebut adalah = \", luas)"
      ],
      "metadata": {
        "id": "0nXHxwbxAyjY"
      },
      "execution_count": null,
      "outputs": []
    },
    {
      "cell_type": "markdown",
      "source": [
        "#Praktikum 03 - Konversi celcius ke fahrenheit"
      ],
      "metadata": {
        "id": "ESvgJmfHMYUh"
      }
    },
    {
      "cell_type": "code",
      "source": [
        "c = float(input(\"Masukan suhu (°C): \"))\n",
        "\n",
        "f = (c * 9/5) + 32\n",
        "\n",
        "print(\"Hasil konversi (°C) ke (°F) = \", f, (\"°F\"))"
      ],
      "metadata": {
        "id": "zcK27bUBMd5V",
        "outputId": "ec98f7cc-680a-4e2e-dbab-f249ed2f20e1",
        "colab": {
          "base_uri": "https://localhost:8080/"
        }
      },
      "execution_count": null,
      "outputs": [
        {
          "output_type": "stream",
          "name": "stdout",
          "text": [
            "Masukan suhu (°C): 40\n",
            "Hasil konversi (°C) ke (°F) =  104.0 °F\n"
          ]
        }
      ]
    },
    {
      "cell_type": "markdown",
      "source": [
        "#Praktikum 04 - Menghitung umur dari tahun lahir"
      ],
      "metadata": {
        "id": "DZTxENMzOTrX"
      }
    },
    {
      "cell_type": "code",
      "source": [
        "tahunlahir = int(input(\"Tahun berapa kamu lahir?: \"))\n",
        "tahunsekarang = 2025\n",
        "\n",
        "umur = tahunsekarang - tahunlahir\n",
        "\n",
        "print(\"umurmu sekarang adalah: \", umur)\n"
      ],
      "metadata": {
        "id": "dQVFsLvVOam0",
        "outputId": "cd2433dd-f068-4308-d5cc-b8a720425281",
        "colab": {
          "base_uri": "https://localhost:8080/"
        }
      },
      "execution_count": null,
      "outputs": [
        {
          "output_type": "stream",
          "name": "stdout",
          "text": [
            "Tahun berapa kamu lahir?: 2006\n",
            "umurmu sekarang adalah:  19\n"
          ]
        }
      ]
    },
    {
      "cell_type": "markdown",
      "source": [
        "#Praktikum 05 - Menghitung luas lingkaran"
      ],
      "metadata": {
        "id": "VNheCwV6PwSn"
      }
    },
    {
      "cell_type": "code",
      "source": [
        "import math\n",
        "\n",
        "def diameter():\n",
        "  d = int(input(\"Masukan diameter dari lingkaran: \"))\n",
        "  l = math.pi*d\n",
        "  print(\"Luas lingkaran jika mengguanakan diameter adalah: \", l)\n",
        "\n",
        "def jari_jari():\n",
        "  r = int(input(\"masukan jari-jari dari lingkaran: \"))\n",
        "  l = math.pi*r*r\n",
        "  print(\"Luas lingkaran jika mengguanakan jari jari adalah: \", l)\n",
        "\n",
        "print(\"------------\")\n",
        "print(\"Menghitung luas lingkaran\")\n",
        "print(\"1. diameter\")\n",
        "print(\"2. Jari jari\")\n",
        "print(\"3. Keluar\")\n",
        "print(\"------------\")\n",
        "\n",
        "pilihan=int(input(\"pilih 1,2 atau 3 : \"))\n",
        "\n",
        "if pilihan == 1:\n",
        "  diameter()\n",
        "elif pilihan == 2:\n",
        "  jari_jari()\n",
        "elif pilihan == 3:\n",
        "  print(\"selamat tinggal\")\n",
        "else:\n",
        "  print(\"pilihan salah\")"
      ],
      "metadata": {
        "id": "IgF88XrDP1I2",
        "outputId": "fe2e64e8-c420-414b-885f-a1015b9d56ea",
        "colab": {
          "base_uri": "https://localhost:8080/"
        }
      },
      "execution_count": null,
      "outputs": [
        {
          "output_type": "stream",
          "name": "stdout",
          "text": [
            "------------\n",
            "Menghitung luas lingkaran\n",
            "1. diameter\n",
            "2. Jari jari\n",
            "3. Keluar\n",
            "------------\n",
            "pilih 1,2 atau 3 : 1\n",
            "Masukan diameter dari lingkaran: 9\n",
            "Luas lingkaran jika mengguanakan diameter adalah:  28.274333882308138\n"
          ]
        }
      ]
    },
    {
      "cell_type": "markdown",
      "source": [
        "#Praktikum 06 - Menghitung tiga bilangan"
      ],
      "metadata": {
        "id": "2GeOgiVBSt1a"
      }
    },
    {
      "cell_type": "code",
      "source": [
        "a = int(input(\"Masukkan bilangan pertama: \"))\n",
        "b = int(input(\"Masukkan bilangan kedua: \"))\n",
        "c = int(input(\"Masukkan bilangan ketiga: \"))\n",
        "\n",
        "jumlah = a + b + c\n",
        "\n",
        "print(\"hasil dari penjumlahan tiga bilangan tersebut adalah = \", jumlah)"
      ],
      "metadata": {
        "id": "tcdKMX7xeVm_",
        "colab": {
          "base_uri": "https://localhost:8080/"
        },
        "outputId": "4803e7ab-1b47-4cd4-f3f8-1b81dac15977"
      },
      "execution_count": null,
      "outputs": [
        {
          "output_type": "stream",
          "name": "stdout",
          "text": [
            "Masukkan bilangan pertama: 1\n",
            "Masukkan bilangan kedua: 1\n",
            "Masukkan bilangan ketiga: 1\n",
            "hasil dari penjumlahan tiga bilangan tersebut adalah =  3\n"
          ]
        }
      ]
    },
    {
      "cell_type": "markdown",
      "source": [
        "#Penugasan 03 - Menghitung Volume Balok"
      ],
      "metadata": {
        "id": "zGn8r4lwPAEL"
      }
    },
    {
      "cell_type": "markdown",
      "source": [
        "\n",
        "```\n",
        "Algoritma Hitung_Volume_Balok\n",
        "Deklarasi:\n",
        "\tP, l, t, hasil: integer\n",
        "Deskripsi:\n",
        "\tInput p\n",
        "\tInput l\n",
        "  Input t\n",
        "  Hasil ← p * l * t\n",
        "Output hasil\n",
        "```\n",
        "\n"
      ],
      "metadata": {
        "id": "k6CwzRtEzchU"
      }
    },
    {
      "cell_type": "code",
      "source": [
        "p = int(input(\"Masukkan panjang dari balok: \"))\n",
        "l = int(input(\"Masukkan lebar dari balok: \"))\n",
        "t = int(input(\"Masukkan tinggi dari balok: \"))\n",
        "\n",
        "hasil = p * l * t\n",
        "\n",
        "print(\"Volume balok tersebut adalah: \", hasil)"
      ],
      "metadata": {
        "colab": {
          "base_uri": "https://localhost:8080/"
        },
        "id": "gOCFdRNYPGgX",
        "outputId": "3d57cf09-e5fa-4881-c859-e19892ae1274"
      },
      "execution_count": null,
      "outputs": [
        {
          "output_type": "stream",
          "name": "stdout",
          "text": [
            "Masukkan panjang dari balok: 3\n",
            "Masukkan lebar dari balok: 3\n",
            "Masukkan tinggi dari balok: 3\n",
            "Volume balok tersebut adalah:  27\n"
          ]
        }
      ]
    },
    {
      "cell_type": "markdown",
      "source": [
        "#Penugasan 04 - Konversi Angka (detik) menjadi Jam, Menit, Detik"
      ],
      "metadata": {
        "id": "8tXNQUgxPvJG"
      }
    },
    {
      "cell_type": "markdown",
      "source": [
        "\n",
        "```\n",
        "Algoritma Konversi_Detik\n",
        "\n",
        "Deklarasi\n",
        "    angka, detik, jam : integer\n",
        "    Konversi_jam, sisa_jam, Konversi_menit, Konversi_detik : integer\n",
        "\n",
        "Deskripsi\n",
        "    INPUT angka  ← masukkan angka (dalam detik)\n",
        "\n",
        "    detik ← 60\n",
        "    jam   ← detik * detik   // 1 jam = 3600 detik\n",
        "\n",
        "    Konversi_jam   ← angka DIV jam\n",
        "    sisa_jam       ← angka MOD jam\n",
        "\n",
        "    Konversi_menit ← sisa_jam DIV detik\n",
        "    Konversi_detik ← sisa_jam MOD detik\n",
        "\n",
        "Output \"Hasil konversi dari\", angka,\"adalah:\", Konversi_jam, \"Jam\",\n",
        "                      Konversi_menit, \"Menit\", Konversi_detik, \"Detik\"\n",
        "```"
      ],
      "metadata": {
        "id": "aOc9_Iy8ztcf"
      }
    },
    {
      "cell_type": "code",
      "source": [
        "angka = int(input(\"Masukkan angka (detik) yang ingin anda konversi: \"))\n",
        "\n",
        "detik = 60\n",
        "jam = (detik*detik)\n",
        "\n",
        "\n",
        "Konversi_jam = int( angka / jam )\n",
        "sisa_jam = int( angka % jam)\n",
        "\n",
        "Konversi_menit = int( sisa_jam / detik )\n",
        "\n",
        "Konversi_detik = int(sisa_jam % detik)\n",
        "\n",
        "\n",
        "print(\"Hasil konversi dari\", angka, \"adalah:\", Konversi_jam, \"Jam\", Konversi_menit, \"Menit\", Konversi_detik, \"Detik\")"
      ],
      "metadata": {
        "colab": {
          "base_uri": "https://localhost:8080/"
        },
        "id": "euoOngdZP0jR",
        "outputId": "3c7619e3-6951-432f-dd07-b175892b42c8"
      },
      "execution_count": 1,
      "outputs": [
        {
          "output_type": "stream",
          "name": "stdout",
          "text": [
            "Masukkan angka (detik) yang ingin anda konversi: 7898\n",
            "Hasil konversi dari 7898 adalah: 2 Jam 11 Menit 38 Detik\n"
          ]
        }
      ]
    },
    {
      "cell_type": "markdown",
      "source": [
        "#Penugasan 05 - 5.\tRata-rata Nilai Tiga Mata Kuliah"
      ],
      "metadata": {
        "id": "fYLeKsU7htjF"
      }
    },
    {
      "cell_type": "markdown",
      "source": [
        "\n",
        "```\n",
        "Algoritma hitung_kelulusan\n",
        "\n",
        "Deklarasi\n",
        "    algopro, dg_k3, os : integer\n",
        "    rerata : real\n",
        "\n",
        "Deskripsi\n",
        "    input algopro  ← masukkan nilai algoritma pemrograman\n",
        "    input dg_k3    ← masukkan nilai desain grafis dan k3\n",
        "    input os       ← masukkan nilai sistem operasi\n",
        "\n",
        "    rerata ← (algopro + dg_k3 + os) / 3\n",
        "\n",
        "    jika rerata >= 60 maka\n",
        "        output \"horee.. kamu lulus dengan rerata: \", rerata\n",
        "    jika tidak\n",
        "        output \"coba lagi tahun depan\"\n",
        "    akhir jika\n",
        "```\n",
        "\n"
      ],
      "metadata": {
        "id": "TCMA1FRI1OQ5"
      }
    },
    {
      "cell_type": "code",
      "source": [
        "Algopro = int(input(\"Masukkan nilai Algoritma Pemrogramanmu: \"))\n",
        "DG_K3 = int(input(\"Masukkan nilai Desain grafis dan K3mu: \"))\n",
        "OS = int(input(\"Masukkan nilai sistem operasimu: \"))\n",
        "\n",
        "rerata = (Algopro + DG_K3 + OS) / 3\n",
        "\n",
        "if rerata >= 60:\n",
        "  print(\"Horee.. Kamu lulus dengan rerata: \", rerata)\n",
        "else:\n",
        "  print(\"Coba lagi tahun depan\")\n"
      ],
      "metadata": {
        "colab": {
          "base_uri": "https://localhost:8080/"
        },
        "id": "SlmudCrDhz-l",
        "outputId": "cdffc6b8-3056-4a3d-de16-bac2765870a5"
      },
      "execution_count": 3,
      "outputs": [
        {
          "output_type": "stream",
          "name": "stdout",
          "text": [
            "Masukkan nilai Algoritma Pemrogramanmu: 60\n",
            "Masukkan nilai Desain grafis dan K3mu: 60\n",
            "Masukkan nilai sistem operasimu: 60\n",
            "Horee.. Kamu lulus dengan rerata:  60.0\n"
          ]
        }
      ]
    },
    {
      "cell_type": "markdown",
      "source": [
        "#Penugasan 06 - Menghitung Diskon Belanja"
      ],
      "metadata": {
        "id": "ZTEdNr6mkwW3"
      }
    },
    {
      "cell_type": "markdown",
      "source": [
        "\n",
        "```\n",
        "Algoritma hitung_diskon\n",
        "\n",
        "Deklarasi\n",
        "    total_belanja, diskon : integer\n",
        "\n",
        "Deskripsi\n",
        "    input total_belanja ← masukkan total harga belanjaan\n",
        "\n",
        "    jika total_belanja >= 500000 maka\n",
        "        diskon ← total_belanja * 80 / 100\n",
        "        output \"kamu harus bayar: \", diskon\n",
        "    jika tidak, jika total_belanja >= 250000 maka\n",
        "        diskon ← total_belanja * 90 / 100\n",
        "        output \"kamu harus bayar: \", diskon\n",
        "    jika tidak\n",
        "        output \"kamu harus bayar: \", total_belanja\n",
        "    akhir jika\n",
        "\n",
        "```"
      ],
      "metadata": {
        "id": "TY4r5-YV1yEZ"
      }
    },
    {
      "cell_type": "code",
      "source": [
        "total_belanja = int(input(\"Masukkan total harga belanjaan anda: \"))\n",
        "\n",
        "if total_belanja >= 500000:\n",
        "  diskon = int(total_belanja*80/100)\n",
        "  print(\"Kamu harus bayar: \", diskon)\n",
        "elif total_belanja >=250000:\n",
        "    diskon = int(total_belanja*90/100)\n",
        "    print(\"Kamu harus bayar: \", diskon)\n",
        "else:\n",
        "  print(\"Kamu harus bayar: \", total_belanja)"
      ],
      "metadata": {
        "colab": {
          "base_uri": "https://localhost:8080/"
        },
        "id": "_Oogwbo4k04i",
        "outputId": "aa4bc508-f48c-4977-8ba0-d7ad9baa9e30"
      },
      "execution_count": null,
      "outputs": [
        {
          "output_type": "stream",
          "name": "stdout",
          "text": [
            "Masukkan total harga belanjaan anda: 250000\n",
            "Kamu harus bayar:  225000\n"
          ]
        }
      ]
    }
  ]
}