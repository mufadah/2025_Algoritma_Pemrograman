{
  "nbformat": 4,
  "nbformat_minor": 0,
  "metadata": {
    "colab": {
      "provenance": [],
      "include_colab_link": true
    },
    "kernelspec": {
      "name": "python3",
      "display_name": "Python 3"
    },
    "language_info": {
      "name": "python"
    }
  },
  "cells": [
    {
      "cell_type": "markdown",
      "metadata": {
        "id": "view-in-github",
        "colab_type": "text"
      },
      "source": [
        "<a href=\"https://colab.research.google.com/github/mufadah/2025_Algoritma_Pemrograman/blob/main/Jobsheet_01.ipynb\" target=\"_parent\"><img src=\"https://colab.research.google.com/assets/colab-badge.svg\" alt=\"Open In Colab\"/></a>"
      ]
    },
    {
      "cell_type": "markdown",
      "source": [
        "#Praktikum 01 - Menghitung luas persegi panjang"
      ],
      "metadata": {
        "id": "UPH5LJRj2bqv"
      }
    },
    {
      "cell_type": "code",
      "source": [
        "p = int(input(\"Masukkan panjang: \"))\n",
        "l = int(input(\"Masukkan lebar: \"))\n",
        "\n",
        "luas = p*l\n",
        "\n",
        "print(\"Luas persegi panjang tersebut adalah = \", luas)"
      ],
      "metadata": {
        "id": "eddbypIs2oTg"
      },
      "execution_count": null,
      "outputs": []
    },
    {
      "cell_type": "markdown",
      "source": [
        "#Praktikum 02 - Menghitung luas segitiga"
      ],
      "metadata": {
        "id": "EY5svBKxAicI"
      }
    },
    {
      "cell_type": "code",
      "source": [
        "import math\n",
        "\n",
        "a = int(input(\"Masukkan sisi a: \"))\n",
        "b = int(input(\"Masukkan sisi b: \"))\n",
        "c = int(input(\"Masukkan sisi c: \"))\n",
        "\n",
        "s = int( a + b + c) / 2\n",
        "luas = math.sqrt(s*(s-a)*(s-b)*(s-c))\n",
        "print(\"Luas dari segitiga tersebut adalah = \", luas)"
      ],
      "metadata": {
        "id": "0nXHxwbxAyjY"
      },
      "execution_count": null,
      "outputs": []
    },
    {
      "cell_type": "markdown",
      "source": [
        "#Praktikum 03 - Konversi celcius ke fahrenheit"
      ],
      "metadata": {
        "id": "ESvgJmfHMYUh"
      }
    },
    {
      "cell_type": "code",
      "source": [
        "c = float(input(\"Masukan suhu (°C): \"))\n",
        "\n",
        "f = (c * 9/5) + 32\n",
        "\n",
        "print(\"Hasil konversi (°C) ke (°F) = \", f, (\"°F\"))"
      ],
      "metadata": {
        "id": "zcK27bUBMd5V",
        "outputId": "ec98f7cc-680a-4e2e-dbab-f249ed2f20e1",
        "colab": {
          "base_uri": "https://localhost:8080/"
        }
      },
      "execution_count": 4,
      "outputs": [
        {
          "output_type": "stream",
          "name": "stdout",
          "text": [
            "Masukan suhu (°C): 40\n",
            "Hasil konversi (°C) ke (°F) =  104.0 °F\n"
          ]
        }
      ]
    },
    {
      "cell_type": "markdown",
      "source": [
        "#Praktikum 04 - Menghitung umur dari tahun lahir"
      ],
      "metadata": {
        "id": "DZTxENMzOTrX"
      }
    },
    {
      "cell_type": "code",
      "source": [
        "tahunlahir = int(input(\"Tahun berapa kamu lahir?: \"))\n",
        "tahunsekarang = 2025\n",
        "\n",
        "umur = tahunsekarang - tahunlahir\n",
        "\n",
        "print(\"umurmu sekarang adalah: \", umur)\n"
      ],
      "metadata": {
        "id": "dQVFsLvVOam0",
        "outputId": "cd2433dd-f068-4308-d5cc-b8a720425281",
        "colab": {
          "base_uri": "https://localhost:8080/"
        }
      },
      "execution_count": 6,
      "outputs": [
        {
          "output_type": "stream",
          "name": "stdout",
          "text": [
            "Tahun berapa kamu lahir?: 2006\n",
            "umurmu sekarang adalah:  19\n"
          ]
        }
      ]
    },
    {
      "cell_type": "markdown",
      "source": [
        "#Praktikum 05 - Menghitung luas lingkaran"
      ],
      "metadata": {
        "id": "VNheCwV6PwSn"
      }
    },
    {
      "cell_type": "code",
      "source": [
        "import math\n",
        "\n",
        "def diameter():\n",
        "  d = int(input(\"Masukan diameter dari lingkaran: \"))\n",
        "  l = math.pi*d\n",
        "  print(\"Luas lingkaran jika mengguanakan diameter adalah: \", l)\n",
        "\n",
        "def jari_jari():\n",
        "  r = int(input(\"masukan jari-jari dari lingkaran: \"))\n",
        "  l = math.pi*r*r\n",
        "  print(\"Luas lingkaran jika mengguanakan jari jari adalah: \", l)\n",
        "\n",
        "print(\"------------\")\n",
        "print(\"Menghitung luas lingkaran\")\n",
        "print(\"1. diameter\")\n",
        "print(\"2. Jari jari\")\n",
        "print(\"3. Keluar\")\n",
        "print(\"------------\")\n",
        "\n",
        "pilihan=int(input(\"pilih 1,2 atau 3 : \"))\n",
        "\n",
        "if pilihan == 1:\n",
        "  diameter()\n",
        "elif pilihan == 2:\n",
        "  jari_jari()\n",
        "elif pilihan == 3:\n",
        "  print(\"selamat tinggal\")\n",
        "else:\n",
        "  print(\"pilihan salah\")"
      ],
      "metadata": {
        "id": "IgF88XrDP1I2",
        "outputId": "fe2e64e8-c420-414b-885f-a1015b9d56ea",
        "colab": {
          "base_uri": "https://localhost:8080/"
        }
      },
      "execution_count": 11,
      "outputs": [
        {
          "output_type": "stream",
          "name": "stdout",
          "text": [
            "------------\n",
            "Menghitung luas lingkaran\n",
            "1. diameter\n",
            "2. Jari jari\n",
            "3. Keluar\n",
            "------------\n",
            "pilih 1,2 atau 3 : 1\n",
            "Masukan diameter dari lingkaran: 9\n",
            "Luas lingkaran jika mengguanakan diameter adalah:  28.274333882308138\n"
          ]
        }
      ]
    },
    {
      "cell_type": "markdown",
      "source": [
        "#Praktikum 06 - Menghitung tiga bilangan"
      ],
      "metadata": {
        "id": "2GeOgiVBSt1a"
      }
    },
    {
      "cell_type": "code",
      "source": [],
      "metadata": {
        "id": "tcdKMX7xeVm_"
      },
      "execution_count": null,
      "outputs": []
    }
  ]
}