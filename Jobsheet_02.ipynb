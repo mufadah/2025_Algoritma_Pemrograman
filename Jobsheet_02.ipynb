{
  "nbformat": 4,
  "nbformat_minor": 0,
  "metadata": {
    "colab": {
      "provenance": [],
      "authorship_tag": "ABX9TyNy8RL1mUjOaqZKsflC6THK",
      "include_colab_link": true
    },
    "kernelspec": {
      "name": "python3",
      "display_name": "Python 3"
    },
    "language_info": {
      "name": "python"
    }
  },
  "cells": [
    {
      "cell_type": "markdown",
      "metadata": {
        "id": "view-in-github",
        "colab_type": "text"
      },
      "source": [
        "<a href=\"https://colab.research.google.com/github/mufadah/2025_Algoritma_Pemrograman/blob/main/Jobsheet_02.ipynb\" target=\"_parent\"><img src=\"https://colab.research.google.com/assets/colab-badge.svg\" alt=\"Open In Colab\"/></a>"
      ]
    },
    {
      "cell_type": "markdown",
      "source": [
        "#Praktikum 01 - Pengenalan Variabel dan Tipe Data"
      ],
      "metadata": {
        "id": "aUHst_ZghWC-"
      }
    },
    {
      "cell_type": "code",
      "execution_count": 10,
      "metadata": {
        "id": "aEotRylyhRUH",
        "colab": {
          "base_uri": "https://localhost:8080/"
        },
        "outputId": "60c66d5a-e039-4060-ed6d-ea40d5409ac0"
      },
      "outputs": [
        {
          "output_type": "stream",
          "name": "stdout",
          "text": [
            "Umur: 20 → <class 'int'>\n",
            "\n",
            "nilai anda: 80.4 → <class 'float'>\n",
            "\n",
            "Nama: Agus → <class 'str'>\n",
            "\n",
            "Ril_or_fek True → <class 'bool'>\n",
            "\n",
            "Data PTN di Semarang: ['Polines', 'Undip', 'Unnes'] → <class 'list'>\n",
            "\n",
            "data koordinat: (15, 20) → <class 'tuple'>\n",
            "\n",
            "data mahasiswa: {'Nama': 'Bagas Putra', 'NIM': '4.31.20.0.25', 'Kelas': 'TI-6A'} → <class 'dict'>\n",
            "\n",
            "Hobi: {'Membaca', 'Berenang', 'Menulis'} → <class 'set'>\n",
            "\n"
          ]
        }
      ],
      "source": [
        "# Integer\n",
        "umur = 20\n",
        "print(\"Umur:\", umur, \"→\", type(umur))\n",
        "print()\n",
        "# Float\n",
        "nilai = 80.4\n",
        "print(\"nilai anda:\", nilai, \"→\", type(nilai))\n",
        "print()\n",
        "\n",
        "# String\n",
        "nama = \"Agus\"\n",
        "print(\"Nama:\", nama, \"→\", type(nama))\n",
        "print()\n",
        "\n",
        "# Boolean\n",
        "Ril_or_fek = True\n",
        "print(\"Ril_or_fek\", Ril_or_fek, \"→\", type(Ril_or_fek))\n",
        "print()\n",
        "\n",
        "# List\n",
        "data = [\"Polines\", \"Undip\", \"Unnes\"]\n",
        "print(\"Data PTN di Semarang:\", data, \"→\", type(data))\n",
        "print()\n",
        "\n",
        "# Tuple\n",
        "koordinat = (15, 20)\n",
        "print(\"data koordinat:\", koordinat, \"→\", type(koordinat))\n",
        "print()\n",
        "\n",
        "# Dictionary\n",
        "data_mahasiswa = {\"Nama\": \"Bagas Putra\", \"NIM\": \"4.31.20.0.25\", \"Kelas\": \"TI-6A\"}\n",
        "print(\"data mahasiswa:\", data_mahasiswa, \"→\", type(data_mahasiswa))\n",
        "print()\n",
        "\n",
        "# Set\n",
        "hobi = {\"Berenang\", \"Membaca\", \"Menulis\"}\n",
        "print(\"Hobi:\", hobi, \"→\", type(hobi))\n",
        "print()"
      ]
    },
    {
      "cell_type": "markdown",
      "source": [
        "#Praktikum 02 - Input dan output dasar"
      ],
      "metadata": {
        "id": "ovT1exXLUd_N"
      }
    },
    {
      "cell_type": "code",
      "source": [
        "# Input string\n",
        "nama = input(\"Masukkan nama anda: \")\n",
        "print()\n",
        "\n",
        "# Input integer\n",
        "umur = int(input(\"Masukkan umur anda: \"))\n",
        "print()\n",
        "\n",
        "# Input float\n",
        "tinggi = float(input(\"Masukkan tinggi badan anda (cm): \"))\n",
        "print()\n",
        "\n",
        "# Output standar\n",
        "print(\"Halo\", nama, \"Umur anda:\", umur, \"Tinggi anda:\", tinggi, \"cm\")\n",
        "print()\n",
        "\n",
        "# Output dengan format ()\n",
        "print(\"Halo {0} Umur anda: {1} Tinggi anda: {2} cm\".format(nama, umur, tinggi))\n",
        "print()\n",
        "\n",
        "# Output dengan f-string\n",
        "print(f\"Halo {nama}, Umur anda: {umur}, Tinggi anda: {tinggi} cm\")\n",
        "print()"
      ],
      "metadata": {
        "id": "IYpVCQHR6qTr",
        "outputId": "9d1fe3e6-e684-49ca-a7de-2d4081ae1ca1",
        "colab": {
          "base_uri": "https://localhost:8080/"
        }
      },
      "execution_count": null,
      "outputs": [
        {
          "output_type": "stream",
          "name": "stdout",
          "text": [
            "Masukkan nama anda: faiq\n",
            "\n",
            "Masukkan umur anda: 19\n",
            "\n",
            "Masukkan tinggi badan anda (cm): 160\n",
            "\n",
            "Halo faiq Umur anda: 19 Tinggi anda: 160.0 cm\n",
            "\n",
            "Halo faiq Umur anda: 19 Tinggi anda: 160.0 cm\n",
            "\n",
            "Halo faiq, Umur anda: 19, Tinggi anda: 160.0 cm\n",
            "\n"
          ]
        }
      ]
    },
    {
      "cell_type": "markdown",
      "source": [
        "#Praktikum 03 - Operator aritmatika"
      ],
      "metadata": {
        "id": "ufk6qbl5aa58"
      }
    },
    {
      "cell_type": "code",
      "source": [
        "a = 4\n",
        "b = 2\n",
        "\n",
        "print(\"a + b = \", a + b)\n",
        "print(\"a - b = \", a - b)\n",
        "print(\"a * b = \", a * b)\n",
        "print(\"a / b = \", a / b)\n",
        "print(\"a // b = \", a // b)\n",
        "print(\"a % b = \", a % b)\n",
        "print(\"a ** b = \", a ** b)"
      ],
      "metadata": {
        "id": "zauD6LqaVzL4",
        "colab": {
          "base_uri": "https://localhost:8080/"
        },
        "outputId": "0551cbae-9a4f-4a75-eb55-031ee333b7ce"
      },
      "execution_count": 11,
      "outputs": [
        {
          "output_type": "stream",
          "name": "stdout",
          "text": [
            "a + b =  6\n",
            "a - b =  2\n",
            "a * b =  8\n",
            "a / b =  2.0\n",
            "a // b =  2\n",
            "a % b =  0\n",
            "a ** b =  16\n"
          ]
        }
      ]
    },
    {
      "cell_type": "markdown",
      "source": [
        "#Praktikum 04 - Operator relasional"
      ],
      "metadata": {
        "id": "7IpUgJsRCZwX"
      }
    },
    {
      "cell_type": "code",
      "source": [
        "x = int(input(\"Masukkan angka pertama: \"))\n",
        "y = int(input(\"Masukkan angka kedua: \"))\n",
        "print()\n",
        "\n",
        "print(\"x == y :\", x == y)\n",
        "print(\"x != y :\", x != y)\n",
        "print(\"x >= y :\", x >= y)\n",
        "print(\"x <= y :\", x <= y)\n",
        "print(\"x > y :\", x > y)\n",
        "print(\"x < y :\", x < y)"
      ],
      "metadata": {
        "id": "6yHLq07ICfPU",
        "colab": {
          "base_uri": "https://localhost:8080/"
        },
        "outputId": "6f11157a-d2b4-4e8f-845c-e2aa797eb00f"
      },
      "execution_count": 15,
      "outputs": [
        {
          "output_type": "stream",
          "name": "stdout",
          "text": [
            "Masukkan angka pertama: 10\n",
            "Masukkan angka kedua: 5\n",
            "\n",
            "x == y : False\n",
            "x != y : True\n",
            "x >= y : True\n",
            "x <= y : False\n",
            "x > y : True\n",
            "x < y : False\n"
          ]
        }
      ]
    },
    {
      "cell_type": "markdown",
      "source": [
        "#Praktikum 05 – Operator Logika dengan Studi Kasus Nyata"
      ],
      "metadata": {
        "id": "4oTET2YwG_Bq"
      }
    },
    {
      "cell_type": "code",
      "source": [
        "a = True\n",
        "b = False\n",
        "\n",
        "# print(\"a and b =\", a and b)\n",
        "# print(\"a or b =\", a or b)\n",
        "# print(\"not a =\", not a)\n",
        "\n",
        "# Studi kasus nyata: kelulusan\n",
        "nilai = int(input(\"Masukkan nilai ujian: \"))\n",
        "kehadiran = int(input(\"Masukkan jumlah kehadiran mahasiswa: \"))\n",
        "\n",
        "lulus_nilai = nilai >= 75\n",
        "lulus_hadir = kehadiran >= 12 #Dari 16 Pertemuan\n",
        "\n",
        "if lulus_nilai and lulus_hadir :\n",
        "  print(\"LULUS\")\n",
        "else:\n",
        "  print(\"TIDAK LULUS\")"
      ],
      "metadata": {
        "id": "zpoBQzWVHFVW",
        "colab": {
          "base_uri": "https://localhost:8080/"
        },
        "outputId": "1ecfe354-354c-46bd-ed04-6f384b1034cb"
      },
      "execution_count": 17,
      "outputs": [
        {
          "output_type": "stream",
          "name": "stdout",
          "text": [
            "Masukkan nilai ujian: 95\n",
            "Masukkan jumlah kehadiran mahasiswa: 18\n",
            "LULUS\n"
          ]
        }
      ]
    },
    {
      "cell_type": "markdown",
      "source": [
        "#Praktikum 06 - Program kasir sederhana"
      ],
      "metadata": {
        "id": "IO8YwSQHWW2q"
      }
    },
    {
      "cell_type": "code",
      "source": [
        "barang = input(\"Masukkan nama barang: \")\n",
        "harga = int(input(\"Masukkan harga barang: \"))\n",
        "jumlah = int(input(\"Masukkan kuantitas barang: \"))\n",
        "\n",
        "total = harga * jumlah\n",
        "\n",
        "if total >= 500000 :\n",
        "  diskon = 0.2\n",
        "elif total >= 250000 :\n",
        "  diskon = 0.1\n",
        "else :\n",
        "  diskon = 0\n",
        "\n",
        "potongan = total * diskon\n",
        "total_bayar = total - diskon\n",
        "\n",
        "print(\"\\n===== Struk Belanja =====\")\n",
        "print(f\"Barang : {barang}\")\n",
        "print(f\"Jumlah : {jumlah}\")\n",
        "print(f\"Total : Rp {total}\")\n",
        "print(f\"Diskon : {diskon * 100}%\")\n",
        "print(f\"Bayar : Rp {total_bayar}\")\n"
      ],
      "metadata": {
        "id": "H0vRTeXQVzPn",
        "colab": {
          "base_uri": "https://localhost:8080/"
        },
        "outputId": "c6717927-ec0b-492b-ccb9-3bab454787e7"
      },
      "execution_count": 18,
      "outputs": [
        {
          "output_type": "stream",
          "name": "stdout",
          "text": [
            "Masukkan nama barang: Shampoo\n",
            "Masukkan harga barang: 100000\n",
            "Masukkan kuantitas barang: 10\n",
            "\n",
            "===== Struk Belanja =====\n",
            "Barang : Shampoo\n",
            "Jumlah : 10\n",
            "Total : Rp 1000000\n",
            "Diskon : 20.0%\n",
            "Bayar : Rp 999999.8\n"
          ]
        }
      ]
    },
    {
      "cell_type": "markdown",
      "source": [
        "#Penugasan 1 - Identitas Mahasiswa"
      ],
      "metadata": {
        "id": "zCcj5dtZ-ZaF"
      }
    },
    {
      "cell_type": "code",
      "source": [
        "nama = input(\"Masukkan nama anda: \")\n",
        "umur = int(input(\"Masukkan umur anda: \"))\n",
        "tinggi = float(input(\"Masukkan tinggi anda: \"))\n",
        "status = True\n",
        "\n",
        "print(\"\")\n",
        "print(f\"Selamat Datang {nama} \\nUmur Anda Adalah {umur} tahun \\nTinggi Anda {tinggi} cm \\nStatus Mahasiswa {status}\")"
      ],
      "metadata": {
        "id": "_IahH5DE8kfU",
        "outputId": "b357f162-9a45-47f4-d688-a509c44f4a15",
        "colab": {
          "base_uri": "https://localhost:8080/"
        }
      },
      "execution_count": null,
      "outputs": [
        {
          "output_type": "stream",
          "name": "stdout",
          "text": [
            "Masukkan nama anda: faiq\n",
            "Masukkan umur anda: 19\n",
            "Masukkan tinggi anda: 160\n",
            "\n",
            "Selamat Datang faiq \n",
            "Umur Anda Adalah 19 tahun \n",
            "Tinggi Anda 160.0 cm \n",
            "Status Mahasiswa True\n"
          ]
        }
      ]
    },
    {
      "cell_type": "markdown",
      "source": [
        "#Penugasan 2 - Operasi Aritmatika"
      ],
      "metadata": {
        "id": "HA_hH792ARM2"
      }
    },
    {
      "cell_type": "code",
      "source": [
        "a = int(input(\"Angka pertama: \"))\n",
        "b = int(input(\"Angka kedua: \"))\n",
        "\n",
        "penjumlahan = int(a + b)\n",
        "pengurangan = int(a - b)\n",
        "perkalian = int(a * b)\n",
        "pembagian = int(a / b)\n",
        "sisa_bagi = int(a % b)\n",
        "pangkat = int(a ** b)\n",
        "\n",
        "print()\n",
        "print(f\"Penjumlahan {a} dan {b} adalah {penjumlahan}\")\n",
        "print()\n",
        "print(f\"pengurangan {a} dan {b} adalah {pengurangan}\")\n",
        "print()\n",
        "print(f\"Perkalian {a} dan {b} adalah {perkalian}\")\n",
        "print()\n",
        "print(f\"Pembagian {a} dan {b} adalah {pembagian}\")\n",
        "print()\n",
        "print(f\"Hasil dari sisa pembagian dari {a} dan {b} adalah {sisa_bagi}\")\n",
        "print()\n",
        "print(f\"Hasil perpangkatan {a} dan {b} adalah {pangkat}\")"
      ],
      "metadata": {
        "id": "oROsVdTHAHvP"
      },
      "execution_count": null,
      "outputs": []
    },
    {
      "cell_type": "markdown",
      "source": [
        "#Penugasan 3 - Konversi nilai"
      ],
      "metadata": {
        "id": "Y6XvzjKRBp_W"
      }
    },
    {
      "cell_type": "code",
      "source": [
        "angka = float(input(\"Masukkan angka anda: \"))\n",
        "print()\n",
        "\n",
        "a = int(angka)\n",
        "b = str(angka)\n",
        "c = round(angka, 2)\n",
        "\n",
        "print(f\"Bentuk integer dari {angka} adalah {a}\")\n",
        "print(f\"Bentuk string dari {angka} adalah '{b}'\")\n",
        "print(f\"Bentuk pembulatan 2 digit di belakang koma dari {angka} adalah {c}\")"
      ],
      "metadata": {
        "id": "Ig4Q8gXVBu0p",
        "colab": {
          "base_uri": "https://localhost:8080/"
        },
        "outputId": "6cc4bb67-2b62-49b3-95e6-81955a7f1ced"
      },
      "execution_count": 6,
      "outputs": [
        {
          "output_type": "stream",
          "name": "stdout",
          "text": [
            "Masukkan angka anda: 1.1231\n",
            "\n",
            "Bentuk integer dari 1.1231 adalah 1\n",
            "Bentuk string dari 1.1231 adalah '1.1231'\n",
            "Bentuk pembulatan 2 digit di belakang koma dari 1.1231 adalah 1.12\n"
          ]
        }
      ]
    },
    {
      "cell_type": "markdown",
      "source": [
        "#Penugasan 4 - Operator Relasional"
      ],
      "metadata": {
        "id": "vFKk0S6lowcJ"
      }
    },
    {
      "cell_type": "code",
      "source": [
        "a = int(input(\"Masukkan angka pertama: \"))\n",
        "b = int(input(\"Masukkan angka kedua: \"))\n",
        "print()\n",
        "\n",
        "# if a >= b:\n",
        "#   print(f\"{a} >= {b}\")\n",
        "# elif a == b:\n",
        "#   print(f\"{a} == {b}\")\n",
        "# elif a != b:\n",
        "#   print(f\"{a} != {b}\")\n",
        "# elif a <= b:\n",
        "#   print(f\"{a} <= {b}\")\n",
        "# elif a < b:\n",
        "#   print(f\"{a} < {b}\")\n",
        "# else:\n",
        "#   print(f\"{a} > {b}\")\n",
        "\n",
        "print(\"x == y :\", x == y)\n",
        "print(\"x != y :\", x != y)\n",
        "print(\"x >= y :\", x >= y)\n",
        "print(\"x <= y :\", x <= y)\n",
        "print(\"x > y :\", x > y)\n",
        "print(\"x < y :\", x < y)"
      ],
      "metadata": {
        "colab": {
          "base_uri": "https://localhost:8080/"
        },
        "id": "HWrn7V4Bo0Ow",
        "outputId": "dff244e0-dfbf-4b29-b283-dcd2708ece65"
      },
      "execution_count": 13,
      "outputs": [
        {
          "output_type": "stream",
          "name": "stdout",
          "text": [
            "Masukkan angka pertama: 10\n",
            "Masukkan angka kedua: 5\n",
            "\n",
            "x == y : False\n",
            "x != y : True\n",
            "x >= y : False\n",
            "x <= y : True\n",
            "x > y : False\n",
            "x < y : True\n"
          ]
        }
      ]
    }
  ]
}