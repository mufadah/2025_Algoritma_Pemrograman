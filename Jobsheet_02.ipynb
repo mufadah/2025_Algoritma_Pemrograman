{
  "nbformat": 4,
  "nbformat_minor": 0,
  "metadata": {
    "colab": {
      "provenance": [],
      "authorship_tag": "ABX9TyMCgEwr3iP1I7sWfGtGsxgA",
      "include_colab_link": true
    },
    "kernelspec": {
      "name": "python3",
      "display_name": "Python 3"
    },
    "language_info": {
      "name": "python"
    }
  },
  "cells": [
    {
      "cell_type": "markdown",
      "metadata": {
        "id": "view-in-github",
        "colab_type": "text"
      },
      "source": [
        "<a href=\"https://colab.research.google.com/github/mufadah/2025_Algoritma_Pemrograman/blob/main/Jobsheet_02.ipynb\" target=\"_parent\"><img src=\"https://colab.research.google.com/assets/colab-badge.svg\" alt=\"Open In Colab\"/></a>"
      ]
    },
    {
      "cell_type": "markdown",
      "source": [
        "#Praktikum 01 - Pengenalan Variabel dan Tipe Data"
      ],
      "metadata": {
        "id": "aUHst_ZghWC-"
      }
    },
    {
      "cell_type": "code",
      "execution_count": 9,
      "metadata": {
        "id": "aEotRylyhRUH",
        "colab": {
          "base_uri": "https://localhost:8080/"
        },
        "outputId": "dd5dea78-d6db-494e-bfc4-bf5536b36e10"
      },
      "outputs": [
        {
          "output_type": "stream",
          "name": "stdout",
          "text": [
            "Umur: 20 → <class 'int'>\n",
            "nilai anda: 80.4 → <class 'float'>\n",
            "Nama: Agus → <class 'str'>\n",
            "Ril_or_fek True → <class 'bool'>\n",
            "Data PTN di Semarang: ['Polines', 'Undip', 'Unnes'] → <class 'list'>\n",
            "data koordinat: (15, 20) → <class 'tuple'>\n",
            "data mahasiswa: {'Nama': 'Bagas Putra', 'NIM': '4.31.20.0.25', 'Kelas': 'TI-6A'} → <class 'dict'>\n"
          ]
        }
      ],
      "source": [
        "# Integer\n",
        "umur = 20\n",
        "print(\"Umur:\", umur, \"→\", type(umur))\n",
        "\n",
        "# Float\n",
        "nilai = 80.4\n",
        "print(\"nilai anda:\", nilai, \"→\", type(nilai))\n",
        "\n",
        "# String\n",
        "nama = \"Agus\"\n",
        "print(\"Nama:\", nama, \"→\", type(nama))\n",
        "\n",
        "# Boolean\n",
        "Ril_or_fek = True\n",
        "print(\"Ril_or_fek\", Ril_or_fek, \"→\", type(Ril_or_fek))\n",
        "\n",
        "# List\n",
        "data = [\"Polines\", \"Undip\", \"Unnes\"]\n",
        "print(\"Data PTN di Semarang:\", data, \"→\", type(data))\n",
        "\n",
        "# Tuple\n",
        "koordinat = (15, 20)\n",
        "print(\"data koordinat:\", koordinat, \"→\", type(koordinat))\n",
        "\n",
        "# Dictionary\n",
        "data_mahasiswa = {\"Nama\": \"Bagas Putra\", \"NIM\": \"4.31.20.0.25\", \"Kelas\": \"TI-6A\"}\n",
        "print(\"data mahasiswa:\", data_mahasiswa, \"→\", type(data_mahasiswa))"
      ]
    },
    {
      "cell_type": "code",
      "source": [],
      "metadata": {
        "id": "IYpVCQHR6qTr"
      },
      "execution_count": null,
      "outputs": []
    }
  ]
}