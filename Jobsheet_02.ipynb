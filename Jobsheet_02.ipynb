{
  "nbformat": 4,
  "nbformat_minor": 0,
  "metadata": {
    "colab": {
      "provenance": [],
      "authorship_tag": "ABX9TyP46qHVCIKBjVbqia8ed/zn",
      "include_colab_link": true
    },
    "kernelspec": {
      "name": "python3",
      "display_name": "Python 3"
    },
    "language_info": {
      "name": "python"
    }
  },
  "cells": [
    {
      "cell_type": "markdown",
      "metadata": {
        "id": "view-in-github",
        "colab_type": "text"
      },
      "source": [
        "<a href=\"https://colab.research.google.com/github/mufadah/2025_Algoritma_Pemrograman/blob/main/Jobsheet_02.ipynb\" target=\"_parent\"><img src=\"https://colab.research.google.com/assets/colab-badge.svg\" alt=\"Open In Colab\"/></a>"
      ]
    },
    {
      "cell_type": "markdown",
      "source": [
        "#Praktikum 01 - Pengenalan Variabel dan Tipe Data"
      ],
      "metadata": {
        "id": "aUHst_ZghWC-"
      }
    },
    {
      "cell_type": "code",
      "execution_count": null,
      "metadata": {
        "id": "aEotRylyhRUH"
      },
      "outputs": [],
      "source": [
        "# Integer\n",
        "umur = 20\n",
        "print(\"Umur:\", umur, \"→\", type(umur))\n",
        "print()\n",
        "# Float\n",
        "nilai = 80.4\n",
        "print(\"nilai anda:\", nilai, \"→\", type(nilai))\n",
        "print()\n",
        "\n",
        "# String\n",
        "nama = \"Agus\"\n",
        "print(\"Nama:\", nama, \"→\", type(nama))\n",
        "print()\n",
        "\n",
        "# Boolean\n",
        "Ril_or_fek = True\n",
        "print(\"Ril_or_fek\", Ril_or_fek, \"→\", type(Ril_or_fek))\n",
        "print()\n",
        "\n",
        "# List\n",
        "data = [\"Polines\", \"Undip\", \"Unnes\"]\n",
        "print(\"Data PTN di Semarang:\", data, \"→\", type(data))\n",
        "print()\n",
        "\n",
        "# Tuple\n",
        "koordinat = (15, 20)\n",
        "print(\"data koordinat:\", koordinat, \"→\", type(koordinat))\n",
        "print()\n",
        "\n",
        "# Dictionary\n",
        "data_mahasiswa = {\"Nama\": \"Bagas Putra\", \"NIM\": \"4.31.20.0.25\", \"Kelas\": \"TI-6A\"}\n",
        "print(\"data mahasiswa:\", data_mahasiswa, \"→\", type(data_mahasiswa))\n",
        "print()\n",
        "\n",
        "# Set\n",
        "hobi = {\"Berenang\", \"Membaca\", \"Menulis\"}\n",
        "print(\"Hobi:\", hobi, \"→\", type(hobi))\n",
        "print()"
      ]
    },
    {
      "cell_type": "markdown",
      "source": [
        "#Praktikum 02 - Input dan output dasar"
      ],
      "metadata": {
        "id": "ovT1exXLUd_N"
      }
    },
    {
      "cell_type": "code",
      "source": [
        "# Input string\n",
        "nama = input(\"Masukkan nama anda: \")\n",
        "print()\n",
        "\n",
        "# Input integer\n",
        "umur = int(input(\"Masukkan umur anda: \"))\n",
        "print()\n",
        "\n",
        "# Input float\n",
        "tinggi = float(input(\"Masukkan tinggi badan anda (cm): \"))\n",
        "print()\n",
        "\n",
        "# Output standar\n",
        "print(\"Halo\", nama, \"Umur anda:\", umur, \"Tinggi anda:\", tinggi, \"cm\")\n",
        "print()\n",
        "\n",
        "# Output dengan format ()\n",
        "print(\"Halo {0} Umur anda: {1} Tinggi anda: {2} cm\".format(nama, umur, tinggi))\n",
        "print()\n",
        "\n",
        "# Output dengan f-string\n",
        "print(f\"Halo {nama}, Umur anda: {umur}, Tinggi anda: {tinggi} cm\")\n",
        "print()"
      ],
      "metadata": {
        "id": "IYpVCQHR6qTr"
      },
      "execution_count": null,
      "outputs": []
    },
    {
      "cell_type": "markdown",
      "source": [
        "#Praktikum 03 - Operator aritmatika"
      ],
      "metadata": {
        "id": "ufk6qbl5aa58"
      }
    },
    {
      "cell_type": "code",
      "source": [
        "a = 4\n",
        "b = 2\n",
        "\n",
        "print(\"a + b = \", a + b)\n",
        "print(\"a - b = \", a - b)\n",
        "print(\"a * b = \", a * b)\n",
        "print(\"a / b = \", a / b)\n",
        "print(\"a // b = \", a // b)\n",
        "print(\"a % b = \", a % b)\n",
        "print(\"a ** b = \", a ** b)"
      ],
      "metadata": {
        "id": "zauD6LqaVzL4"
      },
      "execution_count": null,
      "outputs": []
    },
    {
      "cell_type": "markdown",
      "source": [
        "#Praktikum 04 - Operator relasional"
      ],
      "metadata": {
        "id": "7IpUgJsRCZwX"
      }
    },
    {
      "cell_type": "code",
      "source": [
        "x = 5\n",
        "y = 10\n",
        "\n",
        "print(\"x == y :\", x == y)\n",
        "print(\"x != y :\", x != y)\n",
        "print(\"x >= y :\", x >= y)\n",
        "print(\"x <= y :\", x <= y)\n",
        "print(\"x > y :\", x > y)\n",
        "print(\"x < y :\", x < y)"
      ],
      "metadata": {
        "id": "6yHLq07ICfPU"
      },
      "execution_count": null,
      "outputs": []
    },
    {
      "cell_type": "markdown",
      "source": [
        "#Praktikum 05 – Operator Logika dengan Studi Kasus Nyata"
      ],
      "metadata": {
        "id": "4oTET2YwG_Bq"
      }
    },
    {
      "cell_type": "code",
      "source": [
        "a = True\n",
        "b = False\n",
        "\n",
        "print(\"a and b =\", a and b)\n",
        "print(\"a or b =\", a or b)\n",
        "print(\"not a =\", not a)\n",
        "\n",
        "# Studi kasus nyata: kelulusan\n",
        "nilai = int(input(\"Masukkan nilai ujian: \"))\n",
        "kehadiran = int(input(\"Masukkan jumlah kehadiran mahasiswa: \"))\n",
        "\n",
        "lulus_nilai = nilai >= 75\n",
        "lulus_hadir = kehadiran >= 12 #Dari 16 Pertemuan\n",
        "\n",
        "if lulus_nilai and lulus_hadir :\n",
        "  print(\"LULUS\")\n",
        "else:\n",
        "  print(\"TIDAK LULUS\")"
      ],
      "metadata": {
        "id": "zpoBQzWVHFVW"
      },
      "execution_count": null,
      "outputs": []
    },
    {
      "cell_type": "markdown",
      "source": [
        "#Praktikum 06 - Program kasir sederhana"
      ],
      "metadata": {
        "id": "IO8YwSQHWW2q"
      }
    },
    {
      "cell_type": "code",
      "source": [
        "barang = input(\"Masukkan nama barang: \")\n",
        "harga = int(input(\"Masukkan harga barang: \"))\n",
        "jumlah = int(input(\"Masukkan kuantitas barang: \"))\n",
        "\n",
        "total = harga * jumlah\n",
        "\n",
        "if total >= 500000 :\n",
        "  diskon = total * (4/5)\n",
        "elif total >= 250000 :\n",
        "  diskon = total * (9/10)\n",
        "else :\n",
        "  diskon = total\n",
        "\n",
        "total_bayar = total - diskon\n",
        "\n",
        "print(\"----- STRUK BELANJA -----\")"
      ],
      "metadata": {
        "id": "H0vRTeXQVzPn",
        "outputId": "1227f025-55d4-4113-c900-9b9fdc6b974f",
        "colab": {
          "base_uri": "https://localhost:8080/"
        }
      },
      "execution_count": 6,
      "outputs": [
        {
          "output_type": "stream",
          "name": "stdout",
          "text": [
            "Masukkan nama barang: dada\n",
            "Masukkan harga barang: 231\n",
            "Masukkan kuantitas barang: 1231\n",
            "----- STRUK BELANJA -----\n"
          ]
        }
      ]
    }
  ]
}