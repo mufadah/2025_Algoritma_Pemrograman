{
  "nbformat": 4,
  "nbformat_minor": 0,
  "metadata": {
    "colab": {
      "provenance": [],
      "authorship_tag": "ABX9TyMVpYPSXoGQRZZFi2TTt483",
      "include_colab_link": true
    },
    "kernelspec": {
      "name": "python3",
      "display_name": "Python 3"
    },
    "language_info": {
      "name": "python"
    }
  },
  "cells": [
    {
      "cell_type": "markdown",
      "metadata": {
        "id": "view-in-github",
        "colab_type": "text"
      },
      "source": [
        "<a href=\"https://colab.research.google.com/github/mufadah/2025_Algoritma_Pemrograman/blob/main/Jobsheet_07.ipynb\" target=\"_parent\"><img src=\"https://colab.research.google.com/assets/colab-badge.svg\" alt=\"Open In Colab\"/></a>"
      ]
    },
    {
      "cell_type": "markdown",
      "source": [
        "#Praktikum 01 - Tuple: Data Tetap"
      ],
      "metadata": {
        "id": "aUHst_ZghWC-"
      }
    },
    {
      "cell_type": "code",
      "execution_count": 1,
      "metadata": {
        "id": "aEotRylyhRUH",
        "outputId": "e3840d24-715c-49a8-925e-b8defb622724",
        "colab": {
          "base_uri": "https://localhost:8080/"
        }
      },
      "outputs": [
        {
          "output_type": "stream",
          "name": "stdout",
          "text": [
            "Lintang: 7.05\n",
            "Bujur: 110.44\n"
          ]
        }
      ],
      "source": [
        "koordinat = (7.05, 110.44)\n",
        "\n",
        "print(\"Lintang:\", koordinat[0])\n",
        "print(\"Bujur:\", koordinat[1])\n"
      ]
    },
    {
      "cell_type": "markdown",
      "source": [
        "#Praktikum 02 - Dictionary Dasar"
      ],
      "metadata": {
        "id": "cqcIO64XlF7x"
      }
    },
    {
      "cell_type": "code",
      "source": [
        "mahasiswa = {\n",
        "    \"NIM\" : \"20251001\",\n",
        "    \"Nama\" : \"Andi\",\n",
        "    \"Prodi\" : \"TRK\"\n",
        "}\n",
        "\n",
        "print(\"NIM: \", mahasiswa[\"NIM\"])\n",
        "print(\"Nama: \", mahasiswa[\"Nama\"])\n",
        "print(\"Prodi: \", mahasiswa[\"Prodi\"])"
      ],
      "metadata": {
        "id": "1UxNPdO5lHTL",
        "outputId": "a15ff5f5-e8fb-4269-d28a-44f195d5eaf6",
        "colab": {
          "base_uri": "https://localhost:8080/"
        }
      },
      "execution_count": 6,
      "outputs": [
        {
          "output_type": "stream",
          "name": "stdout",
          "text": [
            "NIM:  3.23.25.0.15\n",
            "Nama:  Faiq\n",
            "Prodi:  TRK\n"
          ]
        }
      ]
    },
    {
      "cell_type": "markdown",
      "source": [
        "#Praktikum 03 - Operasi pada Dictionary"
      ],
      "metadata": {
        "id": "R9YWv-VMlHs4"
      }
    },
    {
      "cell_type": "code",
      "source": [
        "mahasiswa = {\n",
        "    \"NIM\" : \"20251001\",\n",
        "    \"Nama\" : \"Andi\",\n",
        "    \"Prodi\" : \"TRK\"\n",
        "}\n",
        "mahasiswa[\"umur\"] = 19\n",
        "mahasiswa[\"Prodi\"] = \"Teknik Komputer\"\n",
        "del mahasiswa[\"umur\"]\n",
        "\n",
        "print(mahasiswa)"
      ],
      "metadata": {
        "id": "N8oMtYx-lIH7",
        "outputId": "01e8c056-daa5-4263-89e1-c2a93b7e045d",
        "colab": {
          "base_uri": "https://localhost:8080/"
        }
      },
      "execution_count": 9,
      "outputs": [
        {
          "output_type": "stream",
          "name": "stdout",
          "text": [
            "{'NIM': '20251001', 'Nama': 'Andi', 'Prodi': 'Teknik Komputer'}\n"
          ]
        }
      ]
    },
    {
      "cell_type": "markdown",
      "source": [
        "#Praktikum 04 - Set dan Operasi Himpunan"
      ],
      "metadata": {
        "id": "QwkCsxrXlIqN"
      }
    },
    {
      "cell_type": "code",
      "source": [
        "A = {1, 2, 3, 4}\n",
        "B = {3, 4, 5, 6}\n",
        "\n",
        "print(\"Union:\", A | B)\n",
        "print(\"Intersection:\", A & B)\n",
        "print(\"Difference:\", A - B)"
      ],
      "metadata": {
        "id": "Omyb4boglJEZ",
        "outputId": "303514b0-2a78-4009-baef-7a196769ebc2",
        "colab": {
          "base_uri": "https://localhost:8080/"
        }
      },
      "execution_count": 16,
      "outputs": [
        {
          "output_type": "stream",
          "name": "stdout",
          "text": [
            "Union: {1, 2, 3, 4, 5, 6}\n",
            "Intersection: {3, 4}\n",
            "Difference: {1, 2}\n"
          ]
        }
      ]
    },
    {
      "cell_type": "markdown",
      "source": [
        "#Praktikum 05 - Studi Kasus: Data Mahasiswa dan Mata Kuliah"
      ],
      "metadata": {
        "id": "gYK69FzvlNin"
      }
    },
    {
      "cell_type": "code",
      "source": [
        "mhs1 = {\"Algoritma\", \"Matematika\", \"Bahasa Inggris\"}\n",
        "mhs2 = {\"Algoritma\", \"Basis Data\", \"Matematika\"}\n",
        "\n",
        "print(\"Mata kuliah mahasiswa 1 adalah: \", mhs1)\n",
        "print(\"Mata kuliah mahasiswa 2 adalah: \", mhs2)\n",
        "print(\"Mata kuliah mahasiswa 1 dan 2 adalah: \", mhs1 & mhs2)"
      ],
      "metadata": {
        "id": "geC0WiJulOj_",
        "outputId": "7d4fc368-c99a-4c76-a091-38b929f37bd1",
        "colab": {
          "base_uri": "https://localhost:8080/"
        }
      },
      "execution_count": 18,
      "outputs": [
        {
          "output_type": "stream",
          "name": "stdout",
          "text": [
            "Mata kuliah mahasiswa 1 adalah:  {'Bahasa Inggris', 'Algoritma', 'Matematika'}\n",
            "Mata kuliah mahasiswa 2 adalah:  {'Algoritma', 'Basis Data', 'Matematika'}\n",
            "Mata kuliah mahasiswa 1 dan 2 adalah:  {'Algoritma', 'Matematika'}\n"
          ]
        }
      ]
    },
    {
      "cell_type": "markdown",
      "source": [
        "#Praktikum 06 - Studi Kasus Dictionary: Daftar Nilai Mahasiswa"
      ],
      "metadata": {
        "id": "cBONlK-qlQQg"
      }
    },
    {
      "cell_type": "code",
      "source": [
        "nilai_mahasiswa = {\n",
        "    \"Andi\" : 80,\n",
        "    \"Budi\" : 75,\n",
        "    \"Cici\" : 90,\n",
        "}\n",
        "\n",
        "for nama, nilai in nilai_mahasiswa.items():\n",
        "  print(f\"{nama}: {nilai}\")\n",
        "\n",
        "rata = sum(nilai_mahasiswa.values()) / len(nilai_mahasiswa)\n",
        "print(f\"Rata-rata nilai {len(nilai_mahasiswa)} Mahasiswa tersebut adalah: {rata:.2f}\")"
      ],
      "metadata": {
        "id": "aVYpa4_1lRv-",
        "outputId": "b7df502a-2655-4ed5-851d-0a6a06b13ca5",
        "colab": {
          "base_uri": "https://localhost:8080/"
        }
      },
      "execution_count": 22,
      "outputs": [
        {
          "output_type": "stream",
          "name": "stdout",
          "text": [
            "Andi: 80\n",
            "Budi: 75\n",
            "Cici: 90\n",
            "Rata-rata nilai 3 Mahasiswa tersebut adalah: 81.67\n"
          ]
        }
      ]
    },
    {
      "cell_type": "markdown",
      "source": [
        "#Penugasan 01 - Tuple sederhana"
      ],
      "metadata": {
        "id": "45lxckdwlSJK"
      }
    },
    {
      "cell_type": "code",
      "source": [
        "mahasiswa = (\"Faiq\", 19, \"TRK\")\n",
        "\n",
        "print(f\"Nama:\", mahasiswa[0])\n",
        "print(f\"Umur:\", mahasiswa[1])\n",
        "print(f\"Prodi:\", mahasiswa[2])\n"
      ],
      "metadata": {
        "id": "qIULRB1UlTzj",
        "outputId": "2027aaa7-1dab-4a92-d179-488a4f1600e5",
        "colab": {
          "base_uri": "https://localhost:8080/"
        }
      },
      "execution_count": 25,
      "outputs": [
        {
          "output_type": "stream",
          "name": "stdout",
          "text": [
            "Nama: Faiq\n",
            "Umur: 19\n",
            "Prodi: TRK\n"
          ]
        }
      ]
    },
    {
      "cell_type": "markdown",
      "source": [
        "#Penugasan 02 - Tuple tidak bisa diubah"
      ],
      "metadata": {
        "id": "7VwoB-gSfh83"
      }
    },
    {
      "cell_type": "code",
      "source": [
        "nilai = (1, 2, 3)\n",
        "\n",
        "nilai[1] = 5\n",
        "\n",
        "print(nilai)"
      ],
      "metadata": {
        "id": "SWWHVLMYfXeW",
        "outputId": "1a571c1d-9d72-4135-a36e-41d75f51e2e3",
        "colab": {
          "base_uri": "https://localhost:8080/",
          "height": 211
        }
      },
      "execution_count": 26,
      "outputs": [
        {
          "output_type": "error",
          "ename": "TypeError",
          "evalue": "'tuple' object does not support item assignment",
          "traceback": [
            "\u001b[0;31m---------------------------------------------------------------------------\u001b[0m",
            "\u001b[0;31mTypeError\u001b[0m                                 Traceback (most recent call last)",
            "\u001b[0;32m/tmp/ipython-input-726206232.py\u001b[0m in \u001b[0;36m<cell line: 0>\u001b[0;34m()\u001b[0m\n\u001b[1;32m      1\u001b[0m \u001b[0mnilai\u001b[0m \u001b[0;34m=\u001b[0m \u001b[0;34m(\u001b[0m\u001b[0;36m1\u001b[0m\u001b[0;34m,\u001b[0m \u001b[0;36m2\u001b[0m\u001b[0;34m,\u001b[0m \u001b[0;36m3\u001b[0m\u001b[0;34m)\u001b[0m\u001b[0;34m\u001b[0m\u001b[0;34m\u001b[0m\u001b[0m\n\u001b[1;32m      2\u001b[0m \u001b[0;34m\u001b[0m\u001b[0m\n\u001b[0;32m----> 3\u001b[0;31m \u001b[0mnilai\u001b[0m\u001b[0;34m[\u001b[0m\u001b[0;36m1\u001b[0m\u001b[0;34m]\u001b[0m \u001b[0;34m=\u001b[0m \u001b[0;36m5\u001b[0m\u001b[0;34m\u001b[0m\u001b[0;34m\u001b[0m\u001b[0m\n\u001b[0m\u001b[1;32m      4\u001b[0m \u001b[0;34m\u001b[0m\u001b[0m\n\u001b[1;32m      5\u001b[0m \u001b[0mprint\u001b[0m\u001b[0;34m(\u001b[0m\u001b[0mnilai\u001b[0m\u001b[0;34m)\u001b[0m\u001b[0;34m\u001b[0m\u001b[0;34m\u001b[0m\u001b[0m\n",
            "\u001b[0;31mTypeError\u001b[0m: 'tuple' object does not support item assignment"
          ]
        }
      ]
    },
    {
      "cell_type": "markdown",
      "source": [
        "#Penugasan 03 - Dictionary dasar"
      ],
      "metadata": {
        "id": "_-Ff0o_afz5-"
      }
    },
    {
      "cell_type": "code",
      "source": [
        "data_buku = {\n",
        "    \"Judul\" : \"Algoritma\",\n",
        "    \"Penulis\" : \"Munir\",\n",
        "    \"Tahun\" : 2021\n",
        "}\n",
        "\n",
        "print(\"Judul:\", data_buku[\"Judul\"])\n",
        "print(\"Penulis:\", data_buku[\"Penulis\"])\n",
        "print(\"Tahun:\", data_buku[\"Tahun\"])"
      ],
      "metadata": {
        "id": "4icq0sZyfwIM",
        "outputId": "52620cad-0638-40d1-ee66-c90c40ab4023",
        "colab": {
          "base_uri": "https://localhost:8080/"
        }
      },
      "execution_count": 28,
      "outputs": [
        {
          "output_type": "stream",
          "name": "stdout",
          "text": [
            "Judul: Algoritma\n",
            "Penulis: Munir\n",
            "Tahun: 2021\n"
          ]
        }
      ]
    },
    {
      "cell_type": "markdown",
      "source": [
        "#Penugasan 04 - Operasi dictionary"
      ],
      "metadata": {
        "id": "MEqMEezIgaRl"
      }
    },
    {
      "cell_type": "code",
      "source": [
        "data_dosen = {\n",
        "    \"NIP\" : 1234,\n",
        "    \"Nama\" : \"Budi\",\n",
        "    \"Prodi\" : \"TRK\"\n",
        "}\n",
        "\n",
        "data_dosen[\"Umur\"] = 40\n",
        "data_dosen[\"Prodi\"] = \"Teknik Komputer\"\n",
        "del data_dosen[\"Umur\"]\n",
        "\n",
        "print(data_dosen)"
      ],
      "metadata": {
        "id": "-5GUeAdBgV0n",
        "outputId": "1b535d1e-0ce3-42df-a88c-c401a3412edd",
        "colab": {
          "base_uri": "https://localhost:8080/"
        }
      },
      "execution_count": 30,
      "outputs": [
        {
          "output_type": "stream",
          "name": "stdout",
          "text": [
            "{'NIP': 1234, 'Nama': 'Budi', 'Prodi': 'Teknik Komputer'}\n"
          ]
        }
      ]
    },
    {
      "cell_type": "markdown",
      "source": [
        "#Penugasan 05 - Set dan himpunan"
      ],
      "metadata": {
        "id": "G0YfOzBQhBIN"
      }
    },
    {
      "cell_type": "code",
      "source": [
        "A = {\"Matematika\", \"Algoritma\", \"Bahasa Inggris\"}\n",
        "B = {\"Algoritma\", \"Basis Data\", \"Matematika\"}\n",
        "\n",
        "print(\"Union\", A | B)\n",
        "print(\"Intersection\", A & B)\n",
        "print(\"Difference\", A - B)"
      ],
      "metadata": {
        "id": "PuOgN2k1g9HH",
        "outputId": "98ed19f6-e601-4e38-f63b-fb7250f27eb0",
        "colab": {
          "base_uri": "https://localhost:8080/"
        }
      },
      "execution_count": 31,
      "outputs": [
        {
          "output_type": "stream",
          "name": "stdout",
          "text": [
            "Union {'Algoritma', 'Basis Data', 'Matematika', 'Bahasa Inggris'}\n",
            "Intersection {'Algoritma', 'Matematika'}\n",
            "Difference {'Bahasa Inggris'}\n"
          ]
        }
      ]
    },
    {
      "cell_type": "markdown",
      "source": [
        "#Penugasan 06 - Studi kasus dictionary"
      ],
      "metadata": {
        "id": "t5yBdt7ChZ0Y"
      }
    },
    {
      "cell_type": "code",
      "source": [
        "data = {\"Andi\": 85, \"Budi\": 90, \"Cici\": 78}\n",
        "\n",
        "\n",
        "for nama, nilai in data.items():\n",
        "  print(f\"{nama}: {nilai}\")\n",
        "\n",
        "rata = sum(data.values()) / len(data)\n",
        "print(f\"Rata-rata nilai {len(data)} Mahasiswa tersebut adalah: {rata:.2f}\")"
      ],
      "metadata": {
        "id": "EDNYNyixhWYw",
        "outputId": "26bd932b-041f-44a0-d99a-da66f5b59bd4",
        "colab": {
          "base_uri": "https://localhost:8080/"
        }
      },
      "execution_count": 33,
      "outputs": [
        {
          "output_type": "stream",
          "name": "stdout",
          "text": [
            "Andi: 85\n",
            "Budi: 90\n",
            "Cici: 78\n",
            "Rata-rata nilai 3 Mahasiswa tersebut adalah: 84.33\n"
          ]
        }
      ]
    },
    {
      "cell_type": "markdown",
      "source": [
        "#Penugasan 07 - Studi Kasus Set – Klub Mahasiswa"
      ],
      "metadata": {
        "id": "7JXWqHUwiCye"
      }
    },
    {
      "cell_type": "code",
      "source": [
        "Klub_a = {\"Andi\", \"Budi\", \"Cici\"}\n",
        "klub_b = {\"Cici\", \"Deni\", \"Eka\"}\n",
        "\n",
        "print(\"Seluruh orang yang termasuk kedalam klub mahasiswa adalah:\", Klub_a | klub_b)\n",
        "print(\"Seluruh orang yang termasuk kedalam kedua klub mahasiswa adalah:\", Klub_a & klub_b)\n",
        "print(\"Orang-orang yang ada di klub a namun tidak ada di klub b adalah:\", Klub_a - klub_b)"
      ],
      "metadata": {
        "id": "d6iu1aEfhuTz",
        "outputId": "1a742c2f-0894-436e-de76-37f65ae8b9e6",
        "colab": {
          "base_uri": "https://localhost:8080/"
        }
      },
      "execution_count": 34,
      "outputs": [
        {
          "output_type": "stream",
          "name": "stdout",
          "text": [
            "Seluruh orang yang termasuk kedalam klub mahasiswa adalah: {'Cici', 'Deni', 'Eka', 'Budi', 'Andi'}\n",
            "Seluruh orang yang termasuk kedalam kedua klub mahasiswa adalah: {'Cici'}\n",
            "Orang-orang yang ada di klub a namun tidak ada di klub b adalah: {'Budi', 'Andi'}\n"
          ]
        }
      ]
    }
  ]
}