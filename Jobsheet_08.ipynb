{
  "nbformat": 4,
  "nbformat_minor": 0,
  "metadata": {
    "colab": {
      "provenance": [],
      "authorship_tag": "ABX9TyMQEH5JJFQ5BPoN53ZpjK41",
      "include_colab_link": true
    },
    "kernelspec": {
      "name": "python3",
      "display_name": "Python 3"
    },
    "language_info": {
      "name": "python"
    }
  },
  "cells": [
    {
      "cell_type": "markdown",
      "metadata": {
        "id": "view-in-github",
        "colab_type": "text"
      },
      "source": [
        "<a href=\"https://colab.research.google.com/github/mufadah/2025_Algoritma_Pemrograman/blob/main/Jobsheet_08.ipynb\" target=\"_parent\"><img src=\"https://colab.research.google.com/assets/colab-badge.svg\" alt=\"Open In Colab\"/></a>"
      ]
    },
    {
      "cell_type": "markdown",
      "source": [
        "#Praktikum 01 - Fungsi dasar def"
      ],
      "metadata": {
        "id": "aUHst_ZghWC-"
      }
    },
    {
      "cell_type": "code",
      "execution_count": null,
      "metadata": {
        "id": "aEotRylyhRUH",
        "colab": {
          "base_uri": "https://localhost:8080/"
        },
        "outputId": "e7078a4c-a6bc-44f6-c789-f6c9694feb4a"
      },
      "outputs": [
        {
          "output_type": "stream",
          "name": "stdout",
          "text": [
            "halo, selamat datang di Politeknik Negeri Semarang\n"
          ]
        }
      ],
      "source": [
        "def sapa():\n",
        "  print(\"halo, selamat datang di Politeknik Negeri Semarang\")\n",
        "\n",
        "sapa()"
      ]
    },
    {
      "cell_type": "markdown",
      "source": [
        "#Praktikum 02 - Parameter and return"
      ],
      "metadata": {
        "id": "cqcIO64XlF7x"
      }
    },
    {
      "cell_type": "code",
      "source": [
        "def tambah(x,y):\n",
        "  return x + y\n",
        "\n",
        "hasil= tambah(7, 3)\n",
        "\n",
        "print(f\"hasil pertambahan: {hasil} \")"
      ],
      "metadata": {
        "id": "1UxNPdO5lHTL",
        "colab": {
          "base_uri": "https://localhost:8080/"
        },
        "outputId": "0d1b574e-9c3e-4d49-d48b-9eec2788de60"
      },
      "execution_count": null,
      "outputs": [
        {
          "output_type": "stream",
          "name": "stdout",
          "text": [
            "hasil pertambahan 10 \n"
          ]
        }
      ]
    },
    {
      "cell_type": "markdown",
      "source": [
        "#Praktikum 03 - Default argument"
      ],
      "metadata": {
        "id": "R9YWv-VMlHs4"
      }
    },
    {
      "cell_type": "code",
      "source": [
        "def sapa(nama= \"mahasiswa\"):\n",
        "  print(f\"Halo {nama}\")\n",
        "\n",
        "sapa() #Tanpa argumen\n",
        "sapa(\"andi\") #Dengan argumen"
      ],
      "metadata": {
        "id": "N8oMtYx-lIH7",
        "colab": {
          "base_uri": "https://localhost:8080/"
        },
        "outputId": "2f055487-dd11-428e-aed9-77233d50c565"
      },
      "execution_count": null,
      "outputs": [
        {
          "output_type": "stream",
          "name": "stdout",
          "text": [
            "Halo mahasiswa\n",
            "Halo andi\n"
          ]
        }
      ]
    },
    {
      "cell_type": "markdown",
      "source": [
        "#Praktikum 04 - Fungsi dengan *args dan **kwargs"
      ],
      "metadata": {
        "id": "wESwTNGYH5lt"
      }
    },
    {
      "cell_type": "code",
      "source": [
        "def jumlahkan(*args):\n",
        "  return sum(args)\n",
        "\n",
        "def biodata(**kwargs):\n",
        "  for key, value in kwargs.items():\n",
        "    print(f\"{key}: {value}\")\n",
        "\n",
        "print(\"Jumlahkan: \", jumlahkan(1,2,3,4,5))\n",
        "biodata(Nama=\"Budi\", Umur=19, Prodi=\"TRK\")"
      ],
      "metadata": {
        "id": "fy4dHfnq4aFL",
        "outputId": "19af05a3-f12b-4475-8dd1-73cee3e162b7",
        "colab": {
          "base_uri": "https://localhost:8080/"
        }
      },
      "execution_count": null,
      "outputs": [
        {
          "output_type": "stream",
          "name": "stdout",
          "text": [
            "Jumlahkan:  15\n",
            "Nama: Budi\n",
            "Umur: 19\n",
            "Prodi: TRK\n"
          ]
        }
      ]
    },
    {
      "cell_type": "markdown",
      "source": [
        "#Praktikum 05 - Scope variabel"
      ],
      "metadata": {
        "id": "EOmbtCzXIwgv"
      }
    },
    {
      "cell_type": "code",
      "source": [
        "x = 10\n",
        "\n",
        "def ubah():\n",
        "  x = 5\n",
        "  print(f\"Nilai lokal adalah: {x}\")\n",
        "\n",
        "ubah()\n",
        "print(f\"Nilai global adalah: {x}\")"
      ],
      "metadata": {
        "id": "cyCwS5sLIo6G",
        "outputId": "11176f30-0c1b-4bb3-bdd0-d6e0d10cd769",
        "colab": {
          "base_uri": "https://localhost:8080/"
        }
      },
      "execution_count": null,
      "outputs": [
        {
          "output_type": "stream",
          "name": "stdout",
          "text": [
            "Nilai lokal adalah: 5\n",
            "Nilai global adalah: 10\n"
          ]
        }
      ]
    },
    {
      "cell_type": "markdown",
      "source": [
        "#Praktikum 06 - Fungsi lambda"
      ],
      "metadata": {
        "id": "V3b3CRCEJQgj"
      }
    },
    {
      "cell_type": "code",
      "source": [
        "kali = lambda x,y: x*y\n",
        "print(\"Hasil perkalian: \", kali(4, 5))"
      ],
      "metadata": {
        "id": "lVdcXzayJLiX",
        "outputId": "58f85678-4dd5-482f-e4a4-0e116b0a4655",
        "colab": {
          "base_uri": "https://localhost:8080/"
        }
      },
      "execution_count": null,
      "outputs": [
        {
          "output_type": "stream",
          "name": "stdout",
          "text": [
            "Hasil perkalian:  20\n"
          ]
        }
      ]
    },
    {
      "cell_type": "markdown",
      "source": [
        "#Praktikum 07 - Fungsi decorator"
      ],
      "metadata": {
        "id": "w69ltbM4JkXg"
      }
    },
    {
      "cell_type": "code",
      "source": [
        "def decorator_sapa(fungsi):\n",
        "  def wrapper():\n",
        "    print(\"Sebelum fungsi dijalankan...\")\n",
        "    fungsi()\n",
        "    print(\"Setelah fungsi dijalankan...\")\n",
        "  return wrapper\n",
        "\n",
        "@decorator_sapa\n",
        "def sapa():\n",
        "  print(\"Halo mahasiswa Polines\")\n",
        "\n",
        "sapa()"
      ],
      "metadata": {
        "colab": {
          "base_uri": "https://localhost:8080/"
        },
        "id": "jHuP_b6_Jjge",
        "outputId": "27e3f9e3-e6d0-441c-f3c3-b51c54025110"
      },
      "execution_count": null,
      "outputs": [
        {
          "output_type": "stream",
          "name": "stdout",
          "text": [
            "Sebelum fungsi dijalankan...\n",
            "Halo mahasiswa Polines\n",
            "Setelah fungsi dijalankan...\n"
          ]
        }
      ]
    },
    {
      "cell_type": "markdown",
      "source": [
        "#Praktikum 08 - Studi Kasus: Menghitung Rata-rata Nilai Mahasiswa"
      ],
      "metadata": {
        "id": "Pbh-3MEeKNWm"
      }
    },
    {
      "cell_type": "code",
      "source": [
        "def hitung_rata(data):\n",
        "  return sum(data) / len(data)\n",
        "\n",
        "nilai = [80, 90, 85]\n",
        "rata = hitung_rata(nilai)\n",
        "\n",
        "print(\"Rata-rata nilai: \", rata)"
      ],
      "metadata": {
        "id": "XgkM6mXNKD-z",
        "outputId": "36e4804a-a8c2-469f-bbc6-461cb6949838",
        "colab": {
          "base_uri": "https://localhost:8080/"
        }
      },
      "execution_count": null,
      "outputs": [
        {
          "output_type": "stream",
          "name": "stdout",
          "text": [
            "Rata-rata nilai:  85.0\n"
          ]
        }
      ]
    },
    {
      "cell_type": "markdown",
      "source": [
        "#Penugasan 01 - Fungsi sederhana"
      ],
      "metadata": {
        "id": "fLnXBLUFLH6a"
      }
    },
    {
      "cell_type": "code",
      "source": [
        "def perkenalan(nama, prodi):\n",
        "  print(f\"Halo, nama saya {nama}, saya dari prodi {prodi}\")\n",
        "\n",
        "perkenalan(\"Faiq\",\"TRK\")\n",
        "perkenalan(\"Audah\",\"Teknik komputer\")\n",
        "perkenalan(\"Joko\",\"Teknik sastra\")"
      ],
      "metadata": {
        "id": "Aq2PUmfDKzIA",
        "outputId": "ad9dd935-1f4c-43d9-e30d-97a17c114138",
        "colab": {
          "base_uri": "https://localhost:8080/"
        }
      },
      "execution_count": null,
      "outputs": [
        {
          "output_type": "stream",
          "name": "stdout",
          "text": [
            "Halo, nama saya Faiq, saya dari prodi TRK\n",
            "Halo, nama saya Audah, saya dari prodi Teknik komputer\n",
            "Halo, nama saya Joko, saya dari prodi Teknik sastra\n"
          ]
        }
      ]
    },
    {
      "cell_type": "markdown",
      "source": [
        "#Penugasan 02 - Fungsi dengan Parameter dan Return"
      ],
      "metadata": {
        "id": "DTU13Z-hMlaW"
      }
    },
    {
      "cell_type": "code",
      "source": [
        "def luas_persegi(panjang, lebar):\n",
        "  luas = panjang * lebar\n",
        "  print(\"Luas persegi panjang adalah: \", luas)\n",
        "\n",
        "luas_persegi(2,4)\n",
        "luas_persegi(5,6)\n",
        "luas_persegi(9,3)"
      ],
      "metadata": {
        "id": "bRHhAFrXMEI5",
        "outputId": "f88029fa-a304-4a24-a271-3a6c44cbb91a",
        "colab": {
          "base_uri": "https://localhost:8080/"
        }
      },
      "execution_count": null,
      "outputs": [
        {
          "output_type": "stream",
          "name": "stdout",
          "text": [
            "Luas persegi panjang adalah:  8\n",
            "Luas persegi panjang adalah:  30\n",
            "Luas persegi panjang adalah:  27\n"
          ]
        }
      ]
    },
    {
      "cell_type": "markdown",
      "source": [
        "#Penugasan 03 - Fungsi dengan Default Argument"
      ],
      "metadata": {
        "id": "tW8a1Nr9NZcn"
      }
    },
    {
      "cell_type": "code",
      "source": [
        "def salam(waktu=\"Pagi\", nama=\"mahasiswa\"):\n",
        "  print(f\"Selamat {waktu}, {nama} !\")\n",
        "\n",
        "salam()\n",
        "salam(\"malam\", \"Faiq\")\n"
      ],
      "metadata": {
        "id": "E9MJ_0crNWfj",
        "outputId": "c10e6418-0c13-47af-8c95-336d01e11151",
        "colab": {
          "base_uri": "https://localhost:8080/"
        }
      },
      "execution_count": null,
      "outputs": [
        {
          "output_type": "stream",
          "name": "stdout",
          "text": [
            "Selamat Pagi, mahasiswa !\n",
            "Selamat malam, Faiq !\n"
          ]
        }
      ]
    },
    {
      "cell_type": "markdown",
      "source": [
        "#Penugasan 04 - Fungsi dengan *args"
      ],
      "metadata": {
        "id": "z2uUHzWcOTlM"
      }
    },
    {
      "cell_type": "code",
      "source": [
        "def jumlahkan_semua(*angka):\n",
        "  return sum(angka)\n",
        "\n",
        "print(\"Jumlahkan:\", jumlahkan_semua(1,4,7))\n",
        "print(\"Jumlahkan:\", jumlahkan_semua(1,4,7,9,2))\n",
        "print(\"Jumlahkan:\", jumlahkan_semua(1,4,7,8,3,2,5))"
      ],
      "metadata": {
        "id": "m9kv_1uQN8Ah",
        "outputId": "7c00aee0-0a4d-4019-b155-5caeb67c46d6",
        "colab": {
          "base_uri": "https://localhost:8080/"
        }
      },
      "execution_count": null,
      "outputs": [
        {
          "output_type": "stream",
          "name": "stdout",
          "text": [
            "Jumlahkan: 12\n",
            "Jumlahkan: 23\n",
            "Jumlahkan: 30\n"
          ]
        }
      ]
    },
    {
      "cell_type": "markdown",
      "source": [
        "#Penugasan 05 - Fungsi dengan **Kwargs"
      ],
      "metadata": {
        "id": "gu4w0AwBPQyV"
      }
    },
    {
      "cell_type": "code",
      "source": [
        "def info_barang(**data):\n",
        "   for key, value in data.items():\n",
        "    print(f\"{key}: {value}\")\n",
        "\n",
        "info_barang(Nama=\"Tas\", Harga=20000, Stok=30)"
      ],
      "metadata": {
        "id": "o06-0foZOrmm",
        "outputId": "04701200-73e0-478c-90e3-469eff885d18",
        "colab": {
          "base_uri": "https://localhost:8080/"
        }
      },
      "execution_count": null,
      "outputs": [
        {
          "output_type": "stream",
          "name": "stdout",
          "text": [
            "Nama: Tas\n",
            "Harga: 20000\n",
            "Stok: 30\n"
          ]
        }
      ]
    },
    {
      "cell_type": "markdown",
      "source": [
        "#Penugasan 06 - Scope variabel"
      ],
      "metadata": {
        "id": "1IElqqe6P9zK"
      }
    },
    {
      "cell_type": "code",
      "source": [
        "x = 100\n",
        "\n",
        "def ubah():\n",
        "  x = 50\n",
        "  print(f\"Nilai lokal adalah: {x}\")\n",
        "\n",
        "ubah()\n",
        "print(f\"Nilai global adalah: {x}\")\n",
        "\n",
        "print(\"\\nPerbedaan antara nilai lokal dan global adalah value\")"
      ],
      "metadata": {
        "id": "gisds11fP7rj",
        "outputId": "f4966dac-0f0c-4aa0-9d42-dfbc3437b413",
        "colab": {
          "base_uri": "https://localhost:8080/"
        }
      },
      "execution_count": null,
      "outputs": [
        {
          "output_type": "stream",
          "name": "stdout",
          "text": [
            "Nilai lokal adalah: 50\n",
            "Nilai global adalah: 100\n",
            "\n",
            "Perbedaan antara nilai lokal dan global adalah value\n"
          ]
        }
      ]
    },
    {
      "cell_type": "markdown",
      "source": [
        "#Penugasan 07 - Fungsi lambda"
      ],
      "metadata": {
        "id": "ROKEiLOnQocd"
      }
    },
    {
      "cell_type": "markdown",
      "source": [
        "a.\tBuat lambda untuk menghitung kuadrat sebuah bilangan."
      ],
      "metadata": {
        "id": "3rjNVB6bQyIi"
      }
    },
    {
      "cell_type": "code",
      "source": [
        "kali = lambda x: x*x\n",
        "print(\"Hasil kuadrat adalah: \", kali(4))"
      ],
      "metadata": {
        "id": "bJYjsx9CQRyT",
        "outputId": "4d66d303-b32c-4179-ba11-0e072aa3d1e7",
        "colab": {
          "base_uri": "https://localhost:8080/"
        }
      },
      "execution_count": null,
      "outputs": [
        {
          "output_type": "stream",
          "name": "stdout",
          "text": [
            "Hasil kuadrat adalah:  16\n"
          ]
        }
      ]
    },
    {
      "cell_type": "markdown",
      "source": [
        "b.\tBuat lambda untuk menghitung keliling lingkaran dengan jari-jari r."
      ],
      "metadata": {
        "id": "_GoVT9rfQ-_8"
      }
    },
    {
      "cell_type": "code",
      "source": [
        "kali = lambda r: 22/7*(2*r)\n",
        "print(\"Hasil perkalian: \", kali(5))"
      ],
      "metadata": {
        "id": "nTQV9-gPQ6Ua",
        "outputId": "b0b86148-f9ea-417e-8c9d-441f896a7062",
        "colab": {
          "base_uri": "https://localhost:8080/"
        }
      },
      "execution_count": null,
      "outputs": [
        {
          "output_type": "stream",
          "name": "stdout",
          "text": [
            "Hasil perkalian:  31.428571428571427\n"
          ]
        }
      ]
    },
    {
      "cell_type": "markdown",
      "source": [
        "#Penugasan 08 - Fungsi decorator"
      ],
      "metadata": {
        "id": "fklg31z7SMIV"
      }
    },
    {
      "cell_type": "code",
      "source": [
        "def decorator_logger(fungsi):\n",
        "  def halo():\n",
        "    print(\"Memulai fungsi...\")\n",
        "    fungsi()\n",
        "    print(\"Fungsi selesai dijalankan...\")\n",
        "  return halo\n",
        "\n",
        "@decorator_logger\n",
        "def sapa():\n",
        "  print(\"Halo Dunia\")\n",
        "\n",
        "sapa()"
      ],
      "metadata": {
        "outputId": "cf87aaa1-6ff8-4740-a131-10cb1e7e259c",
        "colab": {
          "base_uri": "https://localhost:8080/"
        },
        "id": "FGNPVjCESTeM"
      },
      "execution_count": null,
      "outputs": [
        {
          "output_type": "stream",
          "name": "stdout",
          "text": [
            "Memulai fungsi...\n",
            "Halo Dunia\n",
            "Fungsi selesai dijalankan...\n"
          ]
        }
      ]
    },
    {
      "cell_type": "markdown",
      "source": [
        "#Penugasan 09 - Studi Kasus Nyata – Program Nilai"
      ],
      "metadata": {
        "id": "BYDsDCupSr6L"
      }
    },
    {
      "cell_type": "code",
      "source": [
        "def input_nilai(*angka):\n",
        "  angka = input(\"Masukkan nilai mahasiswa\")\n",
        "  a = [angka]\n",
        "\n",
        "def hitung_rata(data):\n",
        "  return sum(data) / len(data)\n",
        "\n",
        "print(\"-------------------------------\")\n",
        "print(\"Menghitung nilai akhir mahasiswa\")\n",
        "print(\"1. Isi nilai\")\n",
        "print(\"2. Selesai\")\n",
        "print(\"-------------------------------\")\n",
        "\n",
        "pilihan=int(input(\"pilih 1 atau 2: \"))\n",
        "\n",
        "while pilihan != 2:\n",
        "  pilihan = int(input(\"Masukkan nilai: \"))\n",
        "  print(\"Lanjut (pilih 2 untuk selesai)? \")\n"
      ],
      "metadata": {
        "id": "XGQponb-SpUf"
      },
      "execution_count": null,
      "outputs": []
    }
  ]
}